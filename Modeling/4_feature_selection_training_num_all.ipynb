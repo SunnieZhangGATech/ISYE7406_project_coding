{
 "cells": [
  {
   "cell_type": "code",
   "execution_count": 1,
   "id": "96a44005-f0d0-4a76-b066-6d059578f404",
   "metadata": {},
   "outputs": [],
   "source": [
    "import pandas as pd\n",
    "import numpy as np"
   ]
  },
  {
   "cell_type": "code",
   "execution_count": 2,
   "id": "e4dba331-6a59-4185-a255-413930d04701",
   "metadata": {},
   "outputs": [],
   "source": [
    "#read cleaned data and text mining result\n",
    "clean = pd.read_csv('./cleaned_data.csv')\n",
    "text = pd.read_csv('./text_mining.csv')"
   ]
  },
  {
   "cell_type": "code",
   "execution_count": 3,
   "id": "fc59d78e-3730-4a27-b932-934b60134777",
   "metadata": {},
   "outputs": [
    {
     "data": {
      "text/plain": [
       "((33129, 39), (33129, 150))"
      ]
     },
     "execution_count": 3,
     "metadata": {},
     "output_type": "execute_result"
    }
   ],
   "source": [
    "clean.shape, text.shape"
   ]
  },
  {
   "cell_type": "code",
   "execution_count": 4,
   "id": "bf268b3b-6c1d-4a51-a5ea-7c8851ef7d8e",
   "metadata": {},
   "outputs": [
    {
     "data": {
      "text/plain": [
       "37"
      ]
     },
     "execution_count": 4,
     "metadata": {},
     "output_type": "execute_result"
    }
   ],
   "source": [
    "scale = list(set(clean.columns)-set(['ID', 'Description']))\n",
    "len(scale)"
   ]
  },
  {
   "cell_type": "code",
   "execution_count": 5,
   "id": "11c9dcb9-8caa-446f-87d4-b282fbb39b70",
   "metadata": {},
   "outputs": [],
   "source": [
    "from sklearn.preprocessing import MinMaxScaler\n",
    "scaler = MinMaxScaler()\n",
    "clean[scale] = scaler.fit_transform(clean[scale])"
   ]
  },
  {
   "cell_type": "code",
   "execution_count": 6,
   "id": "b1207bf0-e9ea-461c-8c15-37647b5b4476",
   "metadata": {},
   "outputs": [
    {
     "data": {
      "text/html": [
       "<div>\n",
       "<style scoped>\n",
       "    .dataframe tbody tr th:only-of-type {\n",
       "        vertical-align: middle;\n",
       "    }\n",
       "\n",
       "    .dataframe tbody tr th {\n",
       "        vertical-align: top;\n",
       "    }\n",
       "\n",
       "    .dataframe thead th {\n",
       "        text-align: right;\n",
       "    }\n",
       "</style>\n",
       "<table border=\"1\" class=\"dataframe\">\n",
       "  <thead>\n",
       "    <tr style=\"text-align: right;\">\n",
       "      <th></th>\n",
       "      <th>Start_Lat</th>\n",
       "      <th>Start_Lng</th>\n",
       "      <th>Distance(mi)</th>\n",
       "      <th>Temperature(F)</th>\n",
       "      <th>Humidity(%)</th>\n",
       "      <th>Pressure(in)</th>\n",
       "      <th>Visibility(mi)</th>\n",
       "      <th>Wind_Speed(mph)</th>\n",
       "      <th>Precipitation(in)</th>\n",
       "      <th>Amenity</th>\n",
       "      <th>...</th>\n",
       "      <th>Nautical_Twilight_Night</th>\n",
       "      <th>Astronomical_Twilight_Night</th>\n",
       "      <th>cleaned_weather_fair</th>\n",
       "      <th>cleaned_weather_fog</th>\n",
       "      <th>cleaned_weather_other</th>\n",
       "      <th>cleaned_weather_rain</th>\n",
       "      <th>cleaned_weather_snow</th>\n",
       "      <th>cleaned_weather_storm</th>\n",
       "      <th>cleaned_weather_unknown</th>\n",
       "      <th>cleaned_weather_windy</th>\n",
       "    </tr>\n",
       "  </thead>\n",
       "  <tbody>\n",
       "    <tr>\n",
       "      <th>count</th>\n",
       "      <td>33129.000000</td>\n",
       "      <td>33129.000000</td>\n",
       "      <td>33129.000000</td>\n",
       "      <td>33129.000000</td>\n",
       "      <td>33129.000000</td>\n",
       "      <td>33129.000000</td>\n",
       "      <td>33129.000000</td>\n",
       "      <td>33129.000000</td>\n",
       "      <td>33129.000000</td>\n",
       "      <td>33129.000000</td>\n",
       "      <td>...</td>\n",
       "      <td>33129.000000</td>\n",
       "      <td>33129.000000</td>\n",
       "      <td>33129.000000</td>\n",
       "      <td>33129.000000</td>\n",
       "      <td>33129.000000</td>\n",
       "      <td>33129.000000</td>\n",
       "      <td>33129.000000</td>\n",
       "      <td>33129.000000</td>\n",
       "      <td>33129.000000</td>\n",
       "      <td>33129.000000</td>\n",
       "    </tr>\n",
       "    <tr>\n",
       "      <th>mean</th>\n",
       "      <td>0.661816</td>\n",
       "      <td>0.321844</td>\n",
       "      <td>0.013193</td>\n",
       "      <td>0.426598</td>\n",
       "      <td>0.647499</td>\n",
       "      <td>0.476726</td>\n",
       "      <td>0.911065</td>\n",
       "      <td>0.158413</td>\n",
       "      <td>0.004226</td>\n",
       "      <td>0.000694</td>\n",
       "      <td>...</td>\n",
       "      <td>0.243291</td>\n",
       "      <td>0.199010</td>\n",
       "      <td>0.456971</td>\n",
       "      <td>0.020586</td>\n",
       "      <td>0.000634</td>\n",
       "      <td>0.083160</td>\n",
       "      <td>0.000664</td>\n",
       "      <td>0.028344</td>\n",
       "      <td>0.019952</td>\n",
       "      <td>0.003109</td>\n",
       "    </tr>\n",
       "    <tr>\n",
       "      <th>std</th>\n",
       "      <td>0.161941</td>\n",
       "      <td>0.183842</td>\n",
       "      <td>0.031887</td>\n",
       "      <td>0.120610</td>\n",
       "      <td>0.245620</td>\n",
       "      <td>0.146263</td>\n",
       "      <td>0.227197</td>\n",
       "      <td>0.117995</td>\n",
       "      <td>0.028635</td>\n",
       "      <td>0.026340</td>\n",
       "      <td>...</td>\n",
       "      <td>0.429076</td>\n",
       "      <td>0.399262</td>\n",
       "      <td>0.498153</td>\n",
       "      <td>0.141997</td>\n",
       "      <td>0.025169</td>\n",
       "      <td>0.276128</td>\n",
       "      <td>0.025761</td>\n",
       "      <td>0.165955</td>\n",
       "      <td>0.139838</td>\n",
       "      <td>0.055673</td>\n",
       "    </tr>\n",
       "    <tr>\n",
       "      <th>min</th>\n",
       "      <td>0.000000</td>\n",
       "      <td>0.000000</td>\n",
       "      <td>0.000000</td>\n",
       "      <td>0.000000</td>\n",
       "      <td>0.000000</td>\n",
       "      <td>0.000000</td>\n",
       "      <td>0.000000</td>\n",
       "      <td>0.000000</td>\n",
       "      <td>0.000000</td>\n",
       "      <td>0.000000</td>\n",
       "      <td>...</td>\n",
       "      <td>0.000000</td>\n",
       "      <td>0.000000</td>\n",
       "      <td>0.000000</td>\n",
       "      <td>0.000000</td>\n",
       "      <td>0.000000</td>\n",
       "      <td>0.000000</td>\n",
       "      <td>0.000000</td>\n",
       "      <td>0.000000</td>\n",
       "      <td>0.000000</td>\n",
       "      <td>0.000000</td>\n",
       "    </tr>\n",
       "    <tr>\n",
       "      <th>25%</th>\n",
       "      <td>0.647198</td>\n",
       "      <td>0.229572</td>\n",
       "      <td>0.000522</td>\n",
       "      <td>0.340909</td>\n",
       "      <td>0.450549</td>\n",
       "      <td>0.379592</td>\n",
       "      <td>1.000000</td>\n",
       "      <td>0.078947</td>\n",
       "      <td>0.000000</td>\n",
       "      <td>0.000000</td>\n",
       "      <td>...</td>\n",
       "      <td>0.000000</td>\n",
       "      <td>0.000000</td>\n",
       "      <td>0.000000</td>\n",
       "      <td>0.000000</td>\n",
       "      <td>0.000000</td>\n",
       "      <td>0.000000</td>\n",
       "      <td>0.000000</td>\n",
       "      <td>0.000000</td>\n",
       "      <td>0.000000</td>\n",
       "      <td>0.000000</td>\n",
       "    </tr>\n",
       "    <tr>\n",
       "      <th>50%</th>\n",
       "      <td>0.712308</td>\n",
       "      <td>0.259193</td>\n",
       "      <td>0.006020</td>\n",
       "      <td>0.439394</td>\n",
       "      <td>0.670330</td>\n",
       "      <td>0.436735</td>\n",
       "      <td>1.000000</td>\n",
       "      <td>0.157895</td>\n",
       "      <td>0.000000</td>\n",
       "      <td>0.000000</td>\n",
       "      <td>...</td>\n",
       "      <td>0.000000</td>\n",
       "      <td>0.000000</td>\n",
       "      <td>0.000000</td>\n",
       "      <td>0.000000</td>\n",
       "      <td>0.000000</td>\n",
       "      <td>0.000000</td>\n",
       "      <td>0.000000</td>\n",
       "      <td>0.000000</td>\n",
       "      <td>0.000000</td>\n",
       "      <td>0.000000</td>\n",
       "    </tr>\n",
       "    <tr>\n",
       "      <th>75%</th>\n",
       "      <td>0.747309</td>\n",
       "      <td>0.328688</td>\n",
       "      <td>0.015002</td>\n",
       "      <td>0.515152</td>\n",
       "      <td>0.879121</td>\n",
       "      <td>0.530612</td>\n",
       "      <td>1.000000</td>\n",
       "      <td>0.210526</td>\n",
       "      <td>0.000000</td>\n",
       "      <td>0.000000</td>\n",
       "      <td>...</td>\n",
       "      <td>0.000000</td>\n",
       "      <td>0.000000</td>\n",
       "      <td>1.000000</td>\n",
       "      <td>0.000000</td>\n",
       "      <td>0.000000</td>\n",
       "      <td>0.000000</td>\n",
       "      <td>0.000000</td>\n",
       "      <td>0.000000</td>\n",
       "      <td>0.000000</td>\n",
       "      <td>0.000000</td>\n",
       "    </tr>\n",
       "    <tr>\n",
       "      <th>max</th>\n",
       "      <td>1.000000</td>\n",
       "      <td>1.000000</td>\n",
       "      <td>1.000000</td>\n",
       "      <td>1.000000</td>\n",
       "      <td>1.000000</td>\n",
       "      <td>1.000000</td>\n",
       "      <td>1.000000</td>\n",
       "      <td>1.000000</td>\n",
       "      <td>1.000000</td>\n",
       "      <td>1.000000</td>\n",
       "      <td>...</td>\n",
       "      <td>1.000000</td>\n",
       "      <td>1.000000</td>\n",
       "      <td>1.000000</td>\n",
       "      <td>1.000000</td>\n",
       "      <td>1.000000</td>\n",
       "      <td>1.000000</td>\n",
       "      <td>1.000000</td>\n",
       "      <td>1.000000</td>\n",
       "      <td>1.000000</td>\n",
       "      <td>1.000000</td>\n",
       "    </tr>\n",
       "  </tbody>\n",
       "</table>\n",
       "<p>8 rows × 37 columns</p>\n",
       "</div>"
      ],
      "text/plain": [
       "          Start_Lat     Start_Lng  Distance(mi)  Temperature(F)   Humidity(%)  \\\n",
       "count  33129.000000  33129.000000  33129.000000    33129.000000  33129.000000   \n",
       "mean       0.661816      0.321844      0.013193        0.426598      0.647499   \n",
       "std        0.161941      0.183842      0.031887        0.120610      0.245620   \n",
       "min        0.000000      0.000000      0.000000        0.000000      0.000000   \n",
       "25%        0.647198      0.229572      0.000522        0.340909      0.450549   \n",
       "50%        0.712308      0.259193      0.006020        0.439394      0.670330   \n",
       "75%        0.747309      0.328688      0.015002        0.515152      0.879121   \n",
       "max        1.000000      1.000000      1.000000        1.000000      1.000000   \n",
       "\n",
       "       Pressure(in)  Visibility(mi)  Wind_Speed(mph)  Precipitation(in)  \\\n",
       "count  33129.000000    33129.000000     33129.000000       33129.000000   \n",
       "mean       0.476726        0.911065         0.158413           0.004226   \n",
       "std        0.146263        0.227197         0.117995           0.028635   \n",
       "min        0.000000        0.000000         0.000000           0.000000   \n",
       "25%        0.379592        1.000000         0.078947           0.000000   \n",
       "50%        0.436735        1.000000         0.157895           0.000000   \n",
       "75%        0.530612        1.000000         0.210526           0.000000   \n",
       "max        1.000000        1.000000         1.000000           1.000000   \n",
       "\n",
       "            Amenity  ...  Nautical_Twilight_Night  \\\n",
       "count  33129.000000  ...             33129.000000   \n",
       "mean       0.000694  ...                 0.243291   \n",
       "std        0.026340  ...                 0.429076   \n",
       "min        0.000000  ...                 0.000000   \n",
       "25%        0.000000  ...                 0.000000   \n",
       "50%        0.000000  ...                 0.000000   \n",
       "75%        0.000000  ...                 0.000000   \n",
       "max        1.000000  ...                 1.000000   \n",
       "\n",
       "       Astronomical_Twilight_Night  cleaned_weather_fair  cleaned_weather_fog  \\\n",
       "count                 33129.000000          33129.000000         33129.000000   \n",
       "mean                      0.199010              0.456971             0.020586   \n",
       "std                       0.399262              0.498153             0.141997   \n",
       "min                       0.000000              0.000000             0.000000   \n",
       "25%                       0.000000              0.000000             0.000000   \n",
       "50%                       0.000000              0.000000             0.000000   \n",
       "75%                       0.000000              1.000000             0.000000   \n",
       "max                       1.000000              1.000000             1.000000   \n",
       "\n",
       "       cleaned_weather_other  cleaned_weather_rain  cleaned_weather_snow  \\\n",
       "count           33129.000000          33129.000000          33129.000000   \n",
       "mean                0.000634              0.083160              0.000664   \n",
       "std                 0.025169              0.276128              0.025761   \n",
       "min                 0.000000              0.000000              0.000000   \n",
       "25%                 0.000000              0.000000              0.000000   \n",
       "50%                 0.000000              0.000000              0.000000   \n",
       "75%                 0.000000              0.000000              0.000000   \n",
       "max                 1.000000              1.000000              1.000000   \n",
       "\n",
       "       cleaned_weather_storm  cleaned_weather_unknown  cleaned_weather_windy  \n",
       "count           33129.000000             33129.000000           33129.000000  \n",
       "mean                0.028344                 0.019952               0.003109  \n",
       "std                 0.165955                 0.139838               0.055673  \n",
       "min                 0.000000                 0.000000               0.000000  \n",
       "25%                 0.000000                 0.000000               0.000000  \n",
       "50%                 0.000000                 0.000000               0.000000  \n",
       "75%                 0.000000                 0.000000               0.000000  \n",
       "max                 1.000000                 1.000000               1.000000  \n",
       "\n",
       "[8 rows x 37 columns]"
      ]
     },
     "execution_count": 6,
     "metadata": {},
     "output_type": "execute_result"
    }
   ],
   "source": [
    "clean.describe()"
   ]
  },
  {
   "cell_type": "code",
   "execution_count": 7,
   "id": "41a54188-0f22-4e40-92ee-baf9981fd8c1",
   "metadata": {},
   "outputs": [],
   "source": [
    "data = clean.copy()"
   ]
  },
  {
   "cell_type": "code",
   "execution_count": 8,
   "id": "deb4283d-c89c-4d7b-af02-749542e5d862",
   "metadata": {},
   "outputs": [],
   "source": [
    "# data = data.set_index('ID')\n",
    "data = data.drop(columns = ['Description'])"
   ]
  },
  {
   "cell_type": "code",
   "execution_count": 9,
   "id": "fd883f43-52ec-4cdd-8fbf-050f02df38b3",
   "metadata": {},
   "outputs": [
    {
     "data": {
      "text/plain": [
       "(33129, 38)"
      ]
     },
     "execution_count": 9,
     "metadata": {},
     "output_type": "execute_result"
    }
   ],
   "source": [
    "data.shape"
   ]
  },
  {
   "cell_type": "markdown",
   "id": "0cd176e3-4806-469d-8d0d-617868cec24e",
   "metadata": {},
   "source": [
    "### Feature selections"
   ]
  },
  {
   "cell_type": "markdown",
   "id": "6e2db51f-d018-44fc-8327-ccea8be4ced0",
   "metadata": {},
   "source": [
    "Boruta, Lasso, Mutual Information (Information Value), PCA"
   ]
  },
  {
   "cell_type": "code",
   "execution_count": 10,
   "id": "4067016d-eb9a-4c9d-83b9-7f6bb6f76cf2",
   "metadata": {},
   "outputs": [],
   "source": [
    "from boruta import BorutaPy"
   ]
  },
  {
   "cell_type": "code",
   "execution_count": 11,
   "id": "4c56a0b6-27e3-4914-b534-de57dc290037",
   "metadata": {},
   "outputs": [],
   "source": [
    "import sys\n",
    "sys.path.append('./Code_V2/')\n",
    "import public_func as base"
   ]
  },
  {
   "cell_type": "code",
   "execution_count": 12,
   "id": "03e6120f-7456-44a7-a2a3-2fff07fa5f4f",
   "metadata": {},
   "outputs": [],
   "source": [
    "output_folder = './chart/'\n",
    "X = data.drop(columns = ['severity_binary', 'ID'])\n",
    "y = data.severity_binary"
   ]
  },
  {
   "cell_type": "code",
   "execution_count": 13,
   "id": "d7722856-3765-4f4a-a095-0e7540f081f4",
   "metadata": {},
   "outputs": [
    {
     "name": "stdout",
     "output_type": "stream",
     "text": [
      "Iteration: \t1 / 100\n",
      "Confirmed: \t0\n",
      "Tentative: \t36\n",
      "Rejected: \t0\n",
      "Iteration: \t2 / 100\n",
      "Confirmed: \t0\n",
      "Tentative: \t36\n",
      "Rejected: \t0\n",
      "Iteration: \t3 / 100\n",
      "Confirmed: \t0\n",
      "Tentative: \t36\n",
      "Rejected: \t0\n",
      "Iteration: \t4 / 100\n",
      "Confirmed: \t0\n",
      "Tentative: \t36\n",
      "Rejected: \t0\n",
      "Iteration: \t5 / 100\n",
      "Confirmed: \t0\n",
      "Tentative: \t36\n",
      "Rejected: \t0\n",
      "Iteration: \t6 / 100\n",
      "Confirmed: \t0\n",
      "Tentative: \t36\n",
      "Rejected: \t0\n",
      "Iteration: \t7 / 100\n",
      "Confirmed: \t0\n",
      "Tentative: \t36\n",
      "Rejected: \t0\n",
      "Iteration: \t8 / 100\n",
      "Confirmed: \t9\n",
      "Tentative: \t1\n",
      "Rejected: \t26\n",
      "Iteration: \t9 / 100\n",
      "Confirmed: \t9\n",
      "Tentative: \t1\n",
      "Rejected: \t26\n",
      "Iteration: \t10 / 100\n",
      "Confirmed: \t9\n",
      "Tentative: \t1\n",
      "Rejected: \t26\n",
      "Iteration: \t11 / 100\n",
      "Confirmed: \t9\n",
      "Tentative: \t1\n",
      "Rejected: \t26\n",
      "Iteration: \t12 / 100\n",
      "Confirmed: \t9\n",
      "Tentative: \t1\n",
      "Rejected: \t26\n",
      "Iteration: \t13 / 100\n",
      "Confirmed: \t9\n",
      "Tentative: \t1\n",
      "Rejected: \t26\n",
      "Iteration: \t14 / 100\n",
      "Confirmed: \t9\n",
      "Tentative: \t1\n",
      "Rejected: \t26\n",
      "Iteration: \t15 / 100\n",
      "Confirmed: \t9\n",
      "Tentative: \t1\n",
      "Rejected: \t26\n",
      "Iteration: \t16 / 100\n",
      "Confirmed: \t9\n",
      "Tentative: \t1\n",
      "Rejected: \t26\n",
      "Iteration: \t17 / 100\n",
      "Confirmed: \t9\n",
      "Tentative: \t1\n",
      "Rejected: \t26\n",
      "Iteration: \t18 / 100\n",
      "Confirmed: \t9\n",
      "Tentative: \t1\n",
      "Rejected: \t26\n",
      "Iteration: \t19 / 100\n",
      "Confirmed: \t9\n",
      "Tentative: \t1\n",
      "Rejected: \t26\n",
      "Iteration: \t20 / 100\n",
      "Confirmed: \t9\n",
      "Tentative: \t1\n",
      "Rejected: \t26\n",
      "Iteration: \t21 / 100\n",
      "Confirmed: \t9\n",
      "Tentative: \t1\n",
      "Rejected: \t26\n",
      "Iteration: \t22 / 100\n",
      "Confirmed: \t9\n",
      "Tentative: \t1\n",
      "Rejected: \t26\n",
      "Iteration: \t23 / 100\n",
      "Confirmed: \t9\n",
      "Tentative: \t1\n",
      "Rejected: \t26\n",
      "Iteration: \t24 / 100\n",
      "Confirmed: \t9\n",
      "Tentative: \t1\n",
      "Rejected: \t26\n",
      "Iteration: \t25 / 100\n",
      "Confirmed: \t9\n",
      "Tentative: \t1\n",
      "Rejected: \t26\n",
      "Iteration: \t26 / 100\n",
      "Confirmed: \t9\n",
      "Tentative: \t1\n",
      "Rejected: \t26\n",
      "Iteration: \t27 / 100\n",
      "Confirmed: \t9\n",
      "Tentative: \t1\n",
      "Rejected: \t26\n",
      "Iteration: \t28 / 100\n",
      "Confirmed: \t9\n",
      "Tentative: \t1\n",
      "Rejected: \t26\n",
      "Iteration: \t29 / 100\n",
      "Confirmed: \t9\n",
      "Tentative: \t1\n",
      "Rejected: \t26\n",
      "Iteration: \t30 / 100\n",
      "Confirmed: \t9\n",
      "Tentative: \t1\n",
      "Rejected: \t26\n",
      "Iteration: \t31 / 100\n",
      "Confirmed: \t9\n",
      "Tentative: \t1\n",
      "Rejected: \t26\n",
      "Iteration: \t32 / 100\n",
      "Confirmed: \t9\n",
      "Tentative: \t1\n",
      "Rejected: \t26\n",
      "Iteration: \t33 / 100\n",
      "Confirmed: \t9\n",
      "Tentative: \t1\n",
      "Rejected: \t26\n",
      "Iteration: \t34 / 100\n",
      "Confirmed: \t10\n",
      "Tentative: \t0\n",
      "Rejected: \t26\n",
      "\n",
      "\n",
      "BorutaPy finished running.\n",
      "\n",
      "Iteration: \t35 / 100\n",
      "Confirmed: \t10\n",
      "Tentative: \t0\n",
      "Rejected: \t26\n"
     ]
    }
   ],
   "source": [
    "selected_features, rejected_features = base.Boruta_selection(X, y, ff_path=output_folder + f'boruta.png')"
   ]
  },
  {
   "cell_type": "code",
   "execution_count": 14,
   "id": "0ac44c2c-ea92-4e55-b47f-09237358f6a7",
   "metadata": {},
   "outputs": [
    {
     "data": {
      "text/plain": [
       "['Wind_Speed(mph)',\n",
       " 'Precipitation(in)',\n",
       " 'Amenity',\n",
       " 'Bump',\n",
       " 'Crossing',\n",
       " 'Give_Way',\n",
       " 'Junction',\n",
       " 'No_Exit',\n",
       " 'Railway',\n",
       " 'Roundabout',\n",
       " 'Station',\n",
       " 'Stop',\n",
       " 'Traffic_Calming',\n",
       " 'DayOfWeek',\n",
       " 'Sunrise_Sunset_Night',\n",
       " 'Civil_Twilight_Night',\n",
       " 'Nautical_Twilight_Night',\n",
       " 'Astronomical_Twilight_Night',\n",
       " 'cleaned_weather_fair',\n",
       " 'cleaned_weather_fog',\n",
       " 'cleaned_weather_other',\n",
       " 'cleaned_weather_rain',\n",
       " 'cleaned_weather_snow',\n",
       " 'cleaned_weather_storm',\n",
       " 'cleaned_weather_unknown',\n",
       " 'cleaned_weather_windy']"
      ]
     },
     "execution_count": 14,
     "metadata": {},
     "output_type": "execute_result"
    }
   ],
   "source": [
    "rejected_features"
   ]
  },
  {
   "cell_type": "code",
   "execution_count": 15,
   "id": "99d88b81-cba3-4336-a8a6-d433027a7ea4",
   "metadata": {},
   "outputs": [],
   "source": [
    "voting_table = pd.DataFrame(X.columns, columns=['Features'])\n",
    "voting_table['Boruta'] = voting_table['Features'].isin(selected_features).astype(int)"
   ]
  },
  {
   "cell_type": "code",
   "execution_count": 16,
   "id": "f3e8cfb0-3b1f-4162-a55e-6db1371b2f33",
   "metadata": {},
   "outputs": [
    {
     "data": {
      "text/plain": [
       "Boruta\n",
       "0    26\n",
       "1    10\n",
       "Name: count, dtype: int64"
      ]
     },
     "execution_count": 16,
     "metadata": {},
     "output_type": "execute_result"
    }
   ],
   "source": [
    "voting_table.Boruta.value_counts()"
   ]
  },
  {
   "cell_type": "code",
   "execution_count": 17,
   "id": "e2c9b179-baef-4879-831f-a61c22b3dda4",
   "metadata": {},
   "outputs": [],
   "source": [
    "from sklearn.linear_model import Lasso"
   ]
  },
  {
   "cell_type": "code",
   "execution_count": 18,
   "id": "992a2233-ad71-48d5-9e44-295948439dd2",
   "metadata": {},
   "outputs": [
    {
     "name": "stdout",
     "output_type": "stream",
     "text": [
      "[-7.07838556e-02 -1.49694065e-01 -7.27292227e-01  1.44375240e-01\n",
      "  0.00000000e+00 -0.00000000e+00  3.64603767e-02 -0.00000000e+00\n",
      "  0.00000000e+00 -0.00000000e+00  0.00000000e+00 -0.00000000e+00\n",
      "  0.00000000e+00 -2.97348307e-02 -0.00000000e+00  0.00000000e+00\n",
      "  0.00000000e+00 -0.00000000e+00  0.00000000e+00  0.00000000e+00\n",
      " -4.11056988e-02 -0.00000000e+00  3.99046629e-02 -6.02375259e-01\n",
      "  0.00000000e+00  0.00000000e+00  5.12529462e-04  0.00000000e+00\n",
      " -2.25080836e-03 -0.00000000e+00  0.00000000e+00 -3.82213857e-03\n",
      "  0.00000000e+00  0.00000000e+00 -0.00000000e+00 -0.00000000e+00]\n"
     ]
    },
    {
     "data": {
      "text/plain": [
       "(12, 2)"
      ]
     },
     "execution_count": 18,
     "metadata": {},
     "output_type": "execute_result"
    }
   ],
   "source": [
    "lasso = Lasso(alpha = 0.001)\n",
    "lasso.fit(X, y)\n",
    "coefficients = lasso.coef_\n",
    "print(coefficients)\n",
    "feature_coefficient = pd.DataFrame({'Feature': X.columns, 'Coefficient': coefficients})\n",
    "feature_coefficient = feature_coefficient[feature_coefficient['Coefficient'] != 0]\n",
    "feature_coefficient = feature_coefficient.sort_values(by='Coefficient', ascending=False)\n",
    "feature_coefficient.shape"
   ]
  },
  {
   "cell_type": "code",
   "execution_count": 19,
   "id": "babe389c-9b2a-4149-908a-312ad01bf543",
   "metadata": {},
   "outputs": [],
   "source": [
    "voting_table['Lasso'] = voting_table['Features'].isin(feature_coefficient.Feature).astype(int)"
   ]
  },
  {
   "cell_type": "code",
   "execution_count": 20,
   "id": "e77eacd2-b705-449f-a699-7d7aada9b627",
   "metadata": {},
   "outputs": [
    {
     "data": {
      "text/plain": [
       "Lasso\n",
       "0    24\n",
       "1    12\n",
       "Name: count, dtype: int64"
      ]
     },
     "execution_count": 20,
     "metadata": {},
     "output_type": "execute_result"
    }
   ],
   "source": [
    "voting_table.Lasso.value_counts()"
   ]
  },
  {
   "cell_type": "code",
   "execution_count": 21,
   "id": "df70536c-84d9-4a0a-a16c-e26afb38c318",
   "metadata": {},
   "outputs": [],
   "source": [
    "from sklearn.feature_selection import mutual_info_classif"
   ]
  },
  {
   "cell_type": "code",
   "execution_count": 22,
   "id": "1b2cacac-b02e-4f51-bccc-cdeb13125eb9",
   "metadata": {},
   "outputs": [
    {
     "name": "stdout",
     "output_type": "stream",
     "text": [
      "                    Feature  Mutual_Information\n",
      "2              Distance(mi)            0.124409\n",
      "23        accident_duration            0.118800\n",
      "0                 Start_Lat            0.113826\n",
      "1                 Start_Lng            0.112637\n",
      "6            Visibility(mi)            0.007340\n",
      "25     Civil_Twilight_Night            0.005696\n",
      "4               Humidity(%)            0.005192\n",
      "28     cleaned_weather_fair            0.004201\n",
      "33    cleaned_weather_storm            0.003782\n",
      "3            Temperature(F)            0.003103\n",
      "5              Pressure(in)            0.002368\n",
      "13                 Junction            0.002313\n",
      "14                  No_Exit            0.002268\n",
      "12                 Give_Way            0.002247\n",
      "10                     Bump            0.001935\n",
      "15                  Railway            0.001927\n",
      "22                HourOfDay            0.001732\n",
      "26  Nautical_Twilight_Night            0.001083\n",
      "29      cleaned_weather_fog            0.001033\n"
     ]
    }
   ],
   "source": [
    "X_columns = X.columns\n",
    "np.random.seed(20250322)\n",
    "mi_features = base.mutual_information_feature_selection(X, y, alpha = 0.001, feature_names = X_columns, ff_path = output_folder+'mi.png')"
   ]
  },
  {
   "cell_type": "code",
   "execution_count": 23,
   "id": "1355f4e3-0b34-42b2-82e6-dfe6aa9c4094",
   "metadata": {},
   "outputs": [
    {
     "data": {
      "text/plain": [
       "19"
      ]
     },
     "execution_count": 23,
     "metadata": {},
     "output_type": "execute_result"
    }
   ],
   "source": [
    "len(mi_features)"
   ]
  },
  {
   "cell_type": "code",
   "execution_count": 24,
   "id": "dd72f32c-5f4c-4ae0-a099-7f37146cf784",
   "metadata": {},
   "outputs": [],
   "source": [
    "voting_table['MI'] = voting_table['Features'].isin(mi_features).astype(int)"
   ]
  },
  {
   "cell_type": "code",
   "execution_count": 25,
   "id": "85c0d1cd-5506-4531-8a5d-f2a67f23dc56",
   "metadata": {},
   "outputs": [
    {
     "data": {
      "text/plain": [
       "MI\n",
       "1    19\n",
       "0    17\n",
       "Name: count, dtype: int64"
      ]
     },
     "execution_count": 25,
     "metadata": {},
     "output_type": "execute_result"
    }
   ],
   "source": [
    "voting_table.MI.value_counts()"
   ]
  },
  {
   "cell_type": "code",
   "execution_count": 26,
   "id": "9c7461fc-c833-41da-ba9e-02ce67a9bcc8",
   "metadata": {},
   "outputs": [],
   "source": [
    "from sklearn.decomposition import PCA"
   ]
  },
  {
   "cell_type": "code",
   "execution_count": 27,
   "id": "9fdef110-e550-4ada-a0bf-6351356a1dd2",
   "metadata": {},
   "outputs": [
    {
     "name": "stdout",
     "output_type": "stream",
     "text": [
      "Explained variance ratio for each component: [0.39514358 0.16178238]\n",
      "PCA components (loadings):\n",
      "   Start_Lat  Start_Lng  Distance(mi)  Temperature(F)  Humidity(%)  \\\n",
      "0   0.000647  -0.013638     -0.000957       -0.044749     0.092813   \n",
      "1  -0.011411   0.021614     -0.000376       -0.005906    -0.233770   \n",
      "\n",
      "   Pressure(in)  Visibility(mi)  Wind_Speed(mph)  Precipitation(in)   Amenity  \\\n",
      "0     -0.008242       -0.018837        -0.027258           0.000926 -0.000242   \n",
      "1      0.043947        0.204191        -0.018439          -0.010743 -0.000116   \n",
      "\n",
      "   ...  Nautical_Twilight_Night  Astronomical_Twilight_Night  \\\n",
      "0  ...                 0.490339                     0.423978   \n",
      "1  ...                 0.012384                     0.015426   \n",
      "\n",
      "   cleaned_weather_fair  cleaned_weather_fog  cleaned_weather_other  \\\n",
      "0              0.016955             0.007509               -0.00026   \n",
      "1              0.917056            -0.049827               -0.00127   \n",
      "\n",
      "   cleaned_weather_rain  cleaned_weather_snow  cleaned_weather_storm  \\\n",
      "0              0.026269              0.000211              -0.007515   \n",
      "1             -0.225294             -0.001394              -0.054320   \n",
      "\n",
      "   cleaned_weather_unknown  cleaned_weather_windy  \n",
      "0                -0.000652               0.000670  \n",
      "1                -0.029427              -0.004324  \n",
      "\n",
      "[2 rows x 36 columns]\n",
      "Top 5 features for the first principal component: Sunrise_Sunset_Night           0.530926\n",
      "Civil_Twilight_Night           0.530820\n",
      "Nautical_Twilight_Night        0.490339\n",
      "Astronomical_Twilight_Night    0.423978\n",
      "Humidity(%)                    0.092813\n",
      "DayOfWeek                      0.048487\n",
      "Temperature(F)                 0.044749\n",
      "Wind_Speed(mph)                0.027258\n",
      "cleaned_weather_rain           0.026269\n",
      "Junction                       0.020139\n",
      "Visibility(mi)                 0.018837\n",
      "cleaned_weather_fair           0.016955\n",
      "HourOfDay                      0.016927\n",
      "Start_Lng                      0.013638\n",
      "Pressure(in)                   0.008242\n",
      "Name: 0, dtype: float64\n"
     ]
    }
   ],
   "source": [
    "pca = PCA(n_components=2)\n",
    "pca.fit(X)\n",
    "\n",
    "explained_variance = pca.explained_variance_ratio_\n",
    "print(\"Explained variance ratio for each component:\", explained_variance)\n",
    "\n",
    "components = pca.components_\n",
    "\n",
    "pca_df = pd.DataFrame(components, columns=X.columns)\n",
    "print(\"PCA components (loadings):\")\n",
    "print(pca_df)\n",
    "\n",
    "top_features = pca_df.iloc[0].abs().sort_values(ascending=False).head(15)\n",
    "print(\"Top 5 features for the first principal component:\", top_features)"
   ]
  },
  {
   "cell_type": "code",
   "execution_count": 28,
   "id": "da2a8ade-c72f-4884-8e90-3f52cd05a92c",
   "metadata": {},
   "outputs": [],
   "source": [
    "voting_table.fillna(0)\n",
    "voting_table['total_selected'] = voting_table.Boruta + voting_table.Lasso + voting_table.MI"
   ]
  },
  {
   "cell_type": "code",
   "execution_count": 29,
   "id": "810042b9-2d25-49f6-aa53-3a67bc24eaa6",
   "metadata": {},
   "outputs": [
    {
     "data": {
      "text/plain": [
       "total_selected\n",
       "0    15\n",
       "1     8\n",
       "3     7\n",
       "2     6\n",
       "Name: count, dtype: int64"
      ]
     },
     "execution_count": 29,
     "metadata": {},
     "output_type": "execute_result"
    }
   ],
   "source": [
    "voting_table.total_selected.value_counts()"
   ]
  },
  {
   "cell_type": "code",
   "execution_count": 30,
   "id": "604c0f7c-fc28-4c7c-8a1f-f7ceda8571f3",
   "metadata": {},
   "outputs": [],
   "source": [
    "selected = list(voting_table[voting_table.total_selected >=2].Features)"
   ]
  },
  {
   "cell_type": "code",
   "execution_count": 31,
   "id": "0d94eb69-1df1-43b1-b8be-9347ad380d61",
   "metadata": {},
   "outputs": [
    {
     "data": {
      "text/plain": [
       "['Start_Lat',\n",
       " 'Start_Lng',\n",
       " 'Distance(mi)',\n",
       " 'Temperature(F)',\n",
       " 'Humidity(%)',\n",
       " 'Pressure(in)',\n",
       " 'Visibility(mi)',\n",
       " 'Junction',\n",
       " 'Traffic_Signal',\n",
       " 'HourOfDay',\n",
       " 'accident_duration',\n",
       " 'Nautical_Twilight_Night',\n",
       " 'cleaned_weather_fair']"
      ]
     },
     "execution_count": 31,
     "metadata": {},
     "output_type": "execute_result"
    }
   ],
   "source": [
    "selected"
   ]
  },
  {
   "cell_type": "code",
   "execution_count": 32,
   "id": "00d7e95c-48bd-4b57-bc2d-6a7f3843d9cf",
   "metadata": {},
   "outputs": [],
   "source": [
    "X = X[selected]"
   ]
  },
  {
   "cell_type": "code",
   "execution_count": 33,
   "id": "396f0271-adf3-4298-af6b-6a58bb3a3060",
   "metadata": {},
   "outputs": [
    {
     "data": {
      "text/plain": [
       "(33129, 163)"
      ]
     },
     "execution_count": 33,
     "metadata": {},
     "output_type": "execute_result"
    }
   ],
   "source": [
    "X = X.merge(text, left_index = True, right_index=True, how = 'left')\n",
    "X.shape"
   ]
  },
  {
   "cell_type": "code",
   "execution_count": 34,
   "id": "60ee2126-b6b8-416f-9f68-088243d2e871",
   "metadata": {},
   "outputs": [],
   "source": [
    "#split data\n",
    "from sklearn.model_selection import train_test_split\n",
    "X_train, X_test, y_train, y_test = train_test_split(X, y, test_size=0.2, random_state = 20250322)"
   ]
  },
  {
   "cell_type": "code",
   "execution_count": 35,
   "id": "19d65da8-ad51-40e5-a8cf-769d0853581a",
   "metadata": {},
   "outputs": [
    {
     "name": "stdout",
     "output_type": "stream",
     "text": [
      "----- Creating models --------\n",
      "**** Logistic Regression ****\n",
      "**** K-Nearest Neighbors (KNN) ****\n",
      "**** Decision Trees ****\n",
      "**** Random Forest ****\n",
      "**** LightGBM ****\n",
      "**** XGBoost ****\n",
      "------------------------------------\n",
      "----- Creating models --------\n",
      "**** Logistic Regression ****\n",
      "**** K-Nearest Neighbors (KNN) ****\n",
      "**** Decision Trees ****\n",
      "**** Random Forest ****\n",
      "**** LightGBM ****\n",
      "**** XGBoost ****\n",
      "------------------------------------\n",
      "----- Performing Logistic Regression --------\n"
     ]
    },
    {
     "name": "stderr",
     "output_type": "stream",
     "text": [
      "/opt/anaconda3/lib/python3.12/site-packages/sklearn/linear_model/_logistic.py:1237: FutureWarning: 'multi_class' was deprecated in version 1.5 and will be removed in 1.7. From then on, binary problems will be fit as proper binary  logistic regression models (as if multi_class='ovr' were set). Leave it to its default value to avoid this warning.\n",
      "  warnings.warn(\n"
     ]
    },
    {
     "name": "stdout",
     "output_type": "stream",
     "text": [
      "Elapsed time: 41.54 seconds\n",
      "----- Performing KNN --------\n",
      "Elapsed time: 1.96 seconds\n",
      "----- Performing Decision Trees --------\n",
      "Elapsed time: 1.85 seconds\n",
      "----- Performing Random Forest --------\n",
      "Elapsed time: 1.54 seconds\n",
      "----- Performing LightGBM --------\n",
      "Elapsed time: 1.58 seconds\n",
      "----- Performing XGBoost --------\n",
      "Elapsed time: 2.17 seconds\n",
      "Models:  ['Logistic Regression', 'KNN', 'Decision Trees', 'Random Forest', 'LightGBM', 'XGBoost']\n",
      "Models:  ['Logistic Regression', 'KNN', 'Decision Trees', 'Random Forest', 'LightGBM', 'XGBoost']\n",
      "Models:  ['Logistic Regression', 'KNN', 'Decision Trees', 'Random Forest', 'LightGBM', 'XGBoost']\n",
      "Models:  ['Logistic Regression', 'KNN', 'Decision Trees', 'Random Forest', 'LightGBM', 'XGBoost']\n"
     ]
    }
   ],
   "source": [
    "models = base.create_models()\n",
    "base.training_models(X_train, X_test, y_train, y_test, 'num', './chart/')"
   ]
  },
  {
   "cell_type": "code",
   "execution_count": 35,
   "id": "7c7abaf5-8a0e-4d14-a7cc-0cf91b8df952",
   "metadata": {},
   "outputs": [
    {
     "name": "stdout",
     "output_type": "stream",
     "text": [
      "[LightGBM] [Info] Number of positive: 5263, number of negative: 21240\n",
      "[LightGBM] [Info] Auto-choosing row-wise multi-threading, the overhead of testing was 0.005913 seconds.\n",
      "You can set `force_row_wise=true` to remove the overhead.\n",
      "And if memory is not enough, you can set `force_col_wise=true`.\n",
      "[LightGBM] [Info] Total Bins 39709\n",
      "[LightGBM] [Info] Number of data points in the train set: 26503, number of used features: 163\n",
      "[LightGBM] [Info] [binary:BoostFromScore]: pavg=0.198581 -> initscore=-1.395185\n",
      "[LightGBM] [Info] Start training from score -1.395185\n",
      "                     Accuracy  Precision    Recall  F1 Score\n",
      "Logistic Regression  0.823574   0.528448  0.942352  0.677161\n",
      "KNN                  0.867190   0.684811  0.599539  0.639344\n",
      "Decision Tree        0.858286   0.639660  0.637202  0.638429\n",
      "Random Forest        0.867341   0.673520  0.629516  0.650775\n",
      "LightGBM             0.903260   0.839506  0.627210  0.717994\n",
      "XGBoost              0.876547   0.701754  0.645657  0.672538\n"
     ]
    }
   ],
   "source": [
    "from sklearn.linear_model import LogisticRegression\n",
    "from sklearn.neighbors import KNeighborsClassifier\n",
    "from sklearn.tree import DecisionTreeClassifier\n",
    "from sklearn.ensemble import RandomForestClassifier\n",
    "from sklearn.metrics import accuracy_score, precision_score, recall_score, f1_score\n",
    "import lightgbm as lgb\n",
    "import xgboost as xgb\n",
    "\n",
    "num_negative = sum(y_train == 0)\n",
    "num_positive = sum(y_train == 1)\n",
    "scale_pos_weight = num_negative / num_positive\n",
    "\n",
    "models = {\n",
    "    \"Logistic Regression\": LogisticRegression(class_weight='balanced', max_iter=1000),\n",
    "    \"KNN\": KNeighborsClassifier(),\n",
    "    \"Decision Tree\": DecisionTreeClassifier(),\n",
    "    \"Random Forest\": RandomForestClassifier(),\n",
    "    \"LightGBM\": lgb.LGBMClassifier(),\n",
    "    \"XGBoost\": xgb.XGBClassifier()}\n",
    "\n",
    "results = {}\n",
    "\n",
    "for model_name, model in models.items():\n",
    "    model.fit(X_train, y_train)\n",
    "    y_pred = model.predict(X_test)\n",
    "    \n",
    "    accuracy = accuracy_score(y_test, y_pred)\n",
    "    precision = precision_score(y_test, y_pred)\n",
    "    recall = recall_score(y_test, y_pred)\n",
    "    f1 = f1_score(y_test, y_pred)\n",
    "    \n",
    "    results[model_name] = {\n",
    "        \"Accuracy\": accuracy,\n",
    "        \"Precision\": precision,\n",
    "        \"Recall\": recall,\n",
    "        \"F1 Score\": f1}\n",
    "\n",
    "import pandas as pd\n",
    "results_df = pd.DataFrame(results).T\n",
    "\n",
    "print(results_df)"
   ]
  },
  {
   "cell_type": "code",
   "execution_count": 40,
   "id": "bc24423c-88ec-49d3-aefe-8247fc4f2911",
   "metadata": {},
   "outputs": [
    {
     "name": "stdout",
     "output_type": "stream",
     "text": [
      "[LightGBM] [Info] Number of positive: 5263, number of negative: 21240\n",
      "[LightGBM] [Info] Auto-choosing col-wise multi-threading, the overhead of testing was 0.006048 seconds.\n",
      "You can set `force_col_wise=true` to remove the overhead.\n",
      "[LightGBM] [Info] Total Bins 39709\n",
      "[LightGBM] [Info] Number of data points in the train set: 26503, number of used features: 163\n",
      "[LightGBM] [Info] [binary:BoostFromScore]: pavg=0.198581 -> initscore=-1.395185\n",
      "[LightGBM] [Info] Start training from score -1.395185\n",
      "               feature  importance\n",
      "16                SVD3         175\n",
      "2         Distance(mi)         157\n",
      "13                SVD0         126\n",
      "19                SVD6         121\n",
      "15                SVD2         114\n",
      "10   accident_duration          70\n",
      "9            HourOfDay          50\n",
      "27               SVD14          49\n",
      "3       Temperature(F)          45\n",
      "17                SVD4          42\n",
      "30               SVD17          40\n",
      "20                SVD7          39\n",
      "50               SVD37          38\n",
      "24               SVD11          38\n",
      "123             SVD110          38\n",
      "21                SVD8          35\n",
      "4          Humidity(%)          33\n",
      "14                SVD1          32\n",
      "76               SVD63          30\n",
      "130             SVD117          28\n",
      "29               SVD16          27\n",
      "108              SVD95          27\n",
      "135             SVD122          27\n",
      "33               SVD20          26\n",
      "18                SVD5          25\n"
     ]
    }
   ],
   "source": [
    "model = lgb.LGBMClassifier()\n",
    "model.fit(X_train, y_train)\n",
    "\n",
    "# Get feature importance\n",
    "importance = model.feature_importances_\n",
    "feature_names = X_train.columns\n",
    "\n",
    "# Create a DataFrame\n",
    "feat_imp_df = pd.DataFrame({\n",
    "    'feature': feature_names,\n",
    "    'importance': importance\n",
    "}).sort_values(by='importance', ascending=False)\n",
    "\n",
    "print(feat_imp_df.head(25))"
   ]
  },
  {
   "cell_type": "code",
   "execution_count": 37,
   "id": "3feb9232-f497-4333-9bb5-c1b3adc3e884",
   "metadata": {},
   "outputs": [
    {
     "name": "stdout",
     "output_type": "stream",
     "text": [
      "Fitting 5 folds for each of 144 candidates, totalling 720 fits\n",
      "Best hyperparameters found:  {'bagging_fraction': 0.3, 'bagging_freq': 0, 'class_weight': None, 'learning_rate': 0.1, 'max_depth': 5}\n",
      "Best cross-validation score: 0.9047\n",
      "          Accuracy  Precision    Recall  F1 Score\n",
      "LightGBM  0.913221    0.90604  0.622598  0.738041\n"
     ]
    }
   ],
   "source": [
    "from sklearn.model_selection import GridSearchCV\n",
    "\n",
    "lgbm = lgb.LGBMClassifier(verbose=-1)\n",
    "\n",
    "param_grid = {\n",
    "    'learning_rate': [0.01, 0.1, 0.3],  \n",
    "    'max_depth': [3, 5],             \n",
    "    'bagging_fraction': [0.3, 0.5, 0.8, 1],     \n",
    "    'bagging_freq': [0, 3, 5],\n",
    "    'class_weight':[None, 'balanced']}\n",
    "\n",
    "grid_search = GridSearchCV(estimator=lgbm, param_grid=param_grid, scoring='accuracy', cv=5, verbose=1, n_jobs=-1)\n",
    "\n",
    "grid_search.fit(X_train, y_train)\n",
    "\n",
    "print(\"Best hyperparameters found: \", grid_search.best_params_)\n",
    "print(\"Best cross-validation score: {:.4f}\".format(grid_search.best_score_))\n",
    "\n",
    "best_lgb = grid_search.best_estimator_\n",
    "y_pred = best_lgb.predict(X_test)\n",
    "\n",
    "accuracy = accuracy_score(y_test, y_pred)\n",
    "precision = precision_score(y_test, y_pred)\n",
    "recall = recall_score(y_test, y_pred)\n",
    "f1 = f1_score(y_test, y_pred)\n",
    "\n",
    "tune_results = {}\n",
    "model_name = 'LightGBM'\n",
    "tune_results[model_name] = {\n",
    "\"Accuracy\": accuracy,\n",
    "\"Precision\": precision,\n",
    "\"Recall\": recall,\n",
    "\"F1 Score\": f1}\n",
    "\n",
    "import pandas as pd\n",
    "results_df = pd.DataFrame(tune_results).T\n",
    "\n",
    "print(results_df)"
   ]
  },
  {
   "cell_type": "code",
   "execution_count": 38,
   "id": "34aaabad-7a35-495b-8ad5-b5ddf63e473a",
   "metadata": {},
   "outputs": [
    {
     "name": "stderr",
     "output_type": "stream",
     "text": [
      "/opt/anaconda3/lib/python3.12/site-packages/sklearn/model_selection/_validation.py:540: FitFailedWarning: \n",
      "125 fits failed out of a total of 225.\n",
      "The score on these train-test partitions for these parameters will be set to nan.\n",
      "If these failures are not expected, you can try to debug them by setting error_score='raise'.\n",
      "\n",
      "Below are more details about the failures:\n",
      "--------------------------------------------------------------------------------\n",
      "25 fits failed with the following error:\n",
      "Traceback (most recent call last):\n",
      "  File \"/opt/anaconda3/lib/python3.12/site-packages/sklearn/model_selection/_validation.py\", line 888, in _fit_and_score\n",
      "    estimator.fit(X_train, y_train, **fit_params)\n",
      "  File \"/opt/anaconda3/lib/python3.12/site-packages/sklearn/base.py\", line 1473, in wrapper\n",
      "    return fit_method(estimator, *args, **kwargs)\n",
      "           ^^^^^^^^^^^^^^^^^^^^^^^^^^^^^^^^^^^^^^\n",
      "  File \"/opt/anaconda3/lib/python3.12/site-packages/sklearn/linear_model/_logistic.py\", line 1194, in fit\n",
      "    solver = _check_solver(self.solver, self.penalty, self.dual)\n",
      "             ^^^^^^^^^^^^^^^^^^^^^^^^^^^^^^^^^^^^^^^^^^^^^^^^^^^\n",
      "  File \"/opt/anaconda3/lib/python3.12/site-packages/sklearn/linear_model/_logistic.py\", line 67, in _check_solver\n",
      "    raise ValueError(\n",
      "ValueError: Solver lbfgs supports only 'l2' or None penalties, got l1 penalty.\n",
      "\n",
      "--------------------------------------------------------------------------------\n",
      "25 fits failed with the following error:\n",
      "Traceback (most recent call last):\n",
      "  File \"/opt/anaconda3/lib/python3.12/site-packages/sklearn/model_selection/_validation.py\", line 888, in _fit_and_score\n",
      "    estimator.fit(X_train, y_train, **fit_params)\n",
      "  File \"/opt/anaconda3/lib/python3.12/site-packages/sklearn/base.py\", line 1473, in wrapper\n",
      "    return fit_method(estimator, *args, **kwargs)\n",
      "           ^^^^^^^^^^^^^^^^^^^^^^^^^^^^^^^^^^^^^^\n",
      "  File \"/opt/anaconda3/lib/python3.12/site-packages/sklearn/linear_model/_logistic.py\", line 1194, in fit\n",
      "    solver = _check_solver(self.solver, self.penalty, self.dual)\n",
      "             ^^^^^^^^^^^^^^^^^^^^^^^^^^^^^^^^^^^^^^^^^^^^^^^^^^^\n",
      "  File \"/opt/anaconda3/lib/python3.12/site-packages/sklearn/linear_model/_logistic.py\", line 67, in _check_solver\n",
      "    raise ValueError(\n",
      "ValueError: Solver sag supports only 'l2' or None penalties, got l1 penalty.\n",
      "\n",
      "--------------------------------------------------------------------------------\n",
      "25 fits failed with the following error:\n",
      "Traceback (most recent call last):\n",
      "  File \"/opt/anaconda3/lib/python3.12/site-packages/sklearn/model_selection/_validation.py\", line 888, in _fit_and_score\n",
      "    estimator.fit(X_train, y_train, **fit_params)\n",
      "  File \"/opt/anaconda3/lib/python3.12/site-packages/sklearn/base.py\", line 1473, in wrapper\n",
      "    return fit_method(estimator, *args, **kwargs)\n",
      "           ^^^^^^^^^^^^^^^^^^^^^^^^^^^^^^^^^^^^^^\n",
      "  File \"/opt/anaconda3/lib/python3.12/site-packages/sklearn/linear_model/_logistic.py\", line 1194, in fit\n",
      "    solver = _check_solver(self.solver, self.penalty, self.dual)\n",
      "             ^^^^^^^^^^^^^^^^^^^^^^^^^^^^^^^^^^^^^^^^^^^^^^^^^^^\n",
      "  File \"/opt/anaconda3/lib/python3.12/site-packages/sklearn/linear_model/_logistic.py\", line 75, in _check_solver\n",
      "    raise ValueError(\n",
      "ValueError: Only 'saga' solver supports elasticnet penalty, got solver=liblinear.\n",
      "\n",
      "--------------------------------------------------------------------------------\n",
      "25 fits failed with the following error:\n",
      "Traceback (most recent call last):\n",
      "  File \"/opt/anaconda3/lib/python3.12/site-packages/sklearn/model_selection/_validation.py\", line 888, in _fit_and_score\n",
      "    estimator.fit(X_train, y_train, **fit_params)\n",
      "  File \"/opt/anaconda3/lib/python3.12/site-packages/sklearn/base.py\", line 1473, in wrapper\n",
      "    return fit_method(estimator, *args, **kwargs)\n",
      "           ^^^^^^^^^^^^^^^^^^^^^^^^^^^^^^^^^^^^^^\n",
      "  File \"/opt/anaconda3/lib/python3.12/site-packages/sklearn/linear_model/_logistic.py\", line 1194, in fit\n",
      "    solver = _check_solver(self.solver, self.penalty, self.dual)\n",
      "             ^^^^^^^^^^^^^^^^^^^^^^^^^^^^^^^^^^^^^^^^^^^^^^^^^^^\n",
      "  File \"/opt/anaconda3/lib/python3.12/site-packages/sklearn/linear_model/_logistic.py\", line 67, in _check_solver\n",
      "    raise ValueError(\n",
      "ValueError: Solver lbfgs supports only 'l2' or None penalties, got elasticnet penalty.\n",
      "\n",
      "--------------------------------------------------------------------------------\n",
      "25 fits failed with the following error:\n",
      "Traceback (most recent call last):\n",
      "  File \"/opt/anaconda3/lib/python3.12/site-packages/sklearn/model_selection/_validation.py\", line 888, in _fit_and_score\n",
      "    estimator.fit(X_train, y_train, **fit_params)\n",
      "  File \"/opt/anaconda3/lib/python3.12/site-packages/sklearn/base.py\", line 1473, in wrapper\n",
      "    return fit_method(estimator, *args, **kwargs)\n",
      "           ^^^^^^^^^^^^^^^^^^^^^^^^^^^^^^^^^^^^^^\n",
      "  File \"/opt/anaconda3/lib/python3.12/site-packages/sklearn/linear_model/_logistic.py\", line 1194, in fit\n",
      "    solver = _check_solver(self.solver, self.penalty, self.dual)\n",
      "             ^^^^^^^^^^^^^^^^^^^^^^^^^^^^^^^^^^^^^^^^^^^^^^^^^^^\n",
      "  File \"/opt/anaconda3/lib/python3.12/site-packages/sklearn/linear_model/_logistic.py\", line 67, in _check_solver\n",
      "    raise ValueError(\n",
      "ValueError: Solver sag supports only 'l2' or None penalties, got elasticnet penalty.\n",
      "\n",
      "  warnings.warn(some_fits_failed_message, FitFailedWarning)\n",
      "/opt/anaconda3/lib/python3.12/site-packages/sklearn/model_selection/_search.py:1102: UserWarning: One or more of the test scores are non-finite: [0.74259522        nan        nan 0.79398557 0.79707956 0.79700409\n",
      "        nan        nan        nan 0.7948157         nan        nan\n",
      " 0.80783316 0.81013476 0.8099461         nan        nan        nan\n",
      " 0.81568128        nan        nan 0.81590771 0.81722833 0.81700195\n",
      "        nan        nan        nan 0.82194475        nan        nan\n",
      " 0.82141648 0.82149196 0.82186927        nan        nan        nan\n",
      " 0.82228432        nan        nan 0.82232205 0.82247297 0.82239752\n",
      "        nan        nan        nan]\n",
      "  warnings.warn(\n"
     ]
    },
    {
     "name": "stdout",
     "output_type": "stream",
     "text": [
      "Best parameters for Logistic Regression: {'C': 10, 'penalty': 'l2', 'solver': 'lbfgs'}\n",
      "                     Accuracy  Precision    Recall  F1 Score\n",
      "Logistic Regression  0.825385   0.531115  0.944658  0.679945\n"
     ]
    }
   ],
   "source": [
    "from sklearn.model_selection import GridSearchCV\n",
    "\n",
    "lr = LogisticRegression(class_weight='balanced', max_iter = 5000)\n",
    "\n",
    "param_grid_lr = {\n",
    "    'C': [0.001, 0.01, 0.1, 1, 10],  # Regularization strength\n",
    "    'solver': ['liblinear', 'lbfgs', 'sag'],  # Solver choice\n",
    "    'penalty': ['l1', 'l2', 'elasticnet']}\n",
    "\n",
    "grid_lr = GridSearchCV(lr, param_grid_lr, cv=5, scoring='accuracy', n_jobs=-1)\n",
    "grid_lr.fit(X_train, y_train)\n",
    "\n",
    "print(\"Best parameters for Logistic Regression:\", grid_lr.best_params_)\n",
    "y_pred = grid_lr.predict(X_test)\n",
    "\n",
    "accuracy = accuracy_score(y_test, y_pred)\n",
    "precision = precision_score(y_test, y_pred)\n",
    "recall = recall_score(y_test, y_pred)\n",
    "f1 = f1_score(y_test, y_pred)\n",
    "\n",
    "tune_results = {}\n",
    "model_name = 'Logistic Regression'\n",
    "tune_results[model_name] = {\n",
    "\"Accuracy\": accuracy,\n",
    "\"Precision\": precision,\n",
    "\"Recall\": recall,\n",
    "\"F1 Score\": f1}\n",
    "\n",
    "import pandas as pd\n",
    "results_df = pd.DataFrame(tune_results).T\n",
    "\n",
    "print(results_df)"
   ]
  },
  {
   "cell_type": "code",
   "execution_count": null,
   "id": "0be31022-9bc6-4af2-8698-5e9c25d06aea",
   "metadata": {},
   "outputs": [],
   "source": []
  }
 ],
 "metadata": {
  "kernelspec": {
   "display_name": "Python 3 (ipykernel)",
   "language": "python",
   "name": "python3"
  },
  "language_info": {
   "codemirror_mode": {
    "name": "ipython",
    "version": 3
   },
   "file_extension": ".py",
   "mimetype": "text/x-python",
   "name": "python",
   "nbconvert_exporter": "python",
   "pygments_lexer": "ipython3",
   "version": "3.12.7"
  }
 },
 "nbformat": 4,
 "nbformat_minor": 5
}
