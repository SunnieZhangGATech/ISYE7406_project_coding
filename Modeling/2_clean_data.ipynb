{
 "cells": [
  {
   "cell_type": "markdown",
   "id": "5a1c527f-2bea-4fe8-b41d-cd2501f09527",
   "metadata": {},
   "source": [
    "# data clean"
   ]
  },
  {
   "cell_type": "code",
   "execution_count": 1,
   "id": "67710594-53d8-44f5-8757-5f32f1b7f8ff",
   "metadata": {},
   "outputs": [],
   "source": [
    "import pandas as pd\n",
    "import numpy as np"
   ]
  },
  {
   "cell_type": "code",
   "execution_count": 2,
   "id": "a9ee6a52-4c1c-43e8-9676-323318188f4f",
   "metadata": {},
   "outputs": [],
   "source": [
    "data = pd.read_csv('./dataGA.csv')"
   ]
  },
  {
   "cell_type": "code",
   "execution_count": 3,
   "id": "bc3d992b-b1c0-4c4a-a72d-7c3dbe854cee",
   "metadata": {},
   "outputs": [
    {
     "data": {
      "text/plain": [
       "(33129, 47)"
      ]
     },
     "execution_count": 3,
     "metadata": {},
     "output_type": "execute_result"
    }
   ],
   "source": [
    "data.shape"
   ]
  },
  {
   "cell_type": "code",
   "execution_count": 4,
   "id": "2f8e6b32-9990-4ebe-9a0c-7a547b127f5e",
   "metadata": {},
   "outputs": [],
   "source": [
    "data['DayOfWeek'] = pd.to_datetime(data['Start_Time'], format='mixed').dt.dayofweek\n",
    "data['HourOfDay'] = pd.to_datetime(data['Start_Time'], format='mixed').dt.hour"
   ]
  },
  {
   "cell_type": "code",
   "execution_count": 5,
   "id": "4776e3b0-639f-4560-a6e9-5b5f36367a7e",
   "metadata": {},
   "outputs": [],
   "source": [
    "data['Start_Time_clean']= pd.to_datetime(data['Start_Time'], format='mixed')\n",
    "data['End_Time_clean']= pd.to_datetime(data['End_Time'], format='mixed')"
   ]
  },
  {
   "cell_type": "code",
   "execution_count": 6,
   "id": "a276eb71-53cc-4dbc-947f-ebdc3fdff65b",
   "metadata": {},
   "outputs": [],
   "source": [
    "data['accident_duration'] = (data['End_Time_clean'] - data['Start_Time_clean']).dt.total_seconds()"
   ]
  },
  {
   "cell_type": "code",
   "execution_count": 7,
   "id": "ebc38e6d-9f07-429d-9da3-722b51d3289b",
   "metadata": {},
   "outputs": [],
   "source": [
    "columns = ['Source', 'Start_Time', 'End_Time', 'End_Lat', 'End_Lng', 'Country', 'Wind_Direction', 'Severity',\n",
    "           'Turning_Loop', 'Weather_Timestamp', 'Start_Time_clean', 'End_Time_clean', 'State', 'Timezone', 'Airport_Code', 'Wind_Chill(F)',\n",
    "          'Street', 'City', 'County', 'Zipcode']"
   ]
  },
  {
   "cell_type": "code",
   "execution_count": 8,
   "id": "003ec901-802e-48b1-9195-120621571154",
   "metadata": {},
   "outputs": [],
   "source": [
    "data = data.drop(columns = columns)"
   ]
  },
  {
   "cell_type": "code",
   "execution_count": 9,
   "id": "7a6992b8-65f9-48e7-8101-b602e520853c",
   "metadata": {},
   "outputs": [
    {
     "data": {
      "text/plain": [
       "(33129, 32)"
      ]
     },
     "execution_count": 9,
     "metadata": {},
     "output_type": "execute_result"
    }
   ],
   "source": [
    "data.shape"
   ]
  },
  {
   "cell_type": "code",
   "execution_count": 10,
   "id": "ce09dd8d-90af-4582-a950-a693279ed8ad",
   "metadata": {},
   "outputs": [],
   "source": [
    "pd.set_option('display.max_columns', None)"
   ]
  },
  {
   "cell_type": "code",
   "execution_count": 11,
   "id": "b1f34688-b0c8-4f1a-8ea6-2a2fc0a57b0b",
   "metadata": {},
   "outputs": [
    {
     "data": {
      "text/html": [
       "<div>\n",
       "<style scoped>\n",
       "    .dataframe tbody tr th:only-of-type {\n",
       "        vertical-align: middle;\n",
       "    }\n",
       "\n",
       "    .dataframe tbody tr th {\n",
       "        vertical-align: top;\n",
       "    }\n",
       "\n",
       "    .dataframe thead th {\n",
       "        text-align: right;\n",
       "    }\n",
       "</style>\n",
       "<table border=\"1\" class=\"dataframe\">\n",
       "  <thead>\n",
       "    <tr style=\"text-align: right;\">\n",
       "      <th></th>\n",
       "      <th>ID</th>\n",
       "      <th>Start_Lat</th>\n",
       "      <th>Start_Lng</th>\n",
       "      <th>Distance(mi)</th>\n",
       "      <th>Description</th>\n",
       "      <th>Temperature(F)</th>\n",
       "      <th>Humidity(%)</th>\n",
       "      <th>Pressure(in)</th>\n",
       "      <th>Visibility(mi)</th>\n",
       "      <th>Wind_Speed(mph)</th>\n",
       "      <th>Precipitation(in)</th>\n",
       "      <th>Weather_Condition</th>\n",
       "      <th>Amenity</th>\n",
       "      <th>Bump</th>\n",
       "      <th>Crossing</th>\n",
       "      <th>Give_Way</th>\n",
       "      <th>Junction</th>\n",
       "      <th>No_Exit</th>\n",
       "      <th>Railway</th>\n",
       "      <th>Roundabout</th>\n",
       "      <th>Station</th>\n",
       "      <th>Stop</th>\n",
       "      <th>Traffic_Calming</th>\n",
       "      <th>Traffic_Signal</th>\n",
       "      <th>Sunrise_Sunset</th>\n",
       "      <th>Civil_Twilight</th>\n",
       "      <th>Nautical_Twilight</th>\n",
       "      <th>Astronomical_Twilight</th>\n",
       "      <th>severity_binary</th>\n",
       "      <th>DayOfWeek</th>\n",
       "      <th>HourOfDay</th>\n",
       "      <th>accident_duration</th>\n",
       "    </tr>\n",
       "  </thead>\n",
       "  <tbody>\n",
       "    <tr>\n",
       "      <th>0</th>\n",
       "      <td>A-512330</td>\n",
       "      <td>31.621950</td>\n",
       "      <td>-84.130920</td>\n",
       "      <td>0.00</td>\n",
       "      <td>Two lanes blocked due to crash on GA-91 Philem...</td>\n",
       "      <td>75.0</td>\n",
       "      <td>90.0</td>\n",
       "      <td>29.62</td>\n",
       "      <td>9.0</td>\n",
       "      <td>0.0</td>\n",
       "      <td>0.0</td>\n",
       "      <td>Fair</td>\n",
       "      <td>False</td>\n",
       "      <td>False</td>\n",
       "      <td>False</td>\n",
       "      <td>False</td>\n",
       "      <td>False</td>\n",
       "      <td>False</td>\n",
       "      <td>False</td>\n",
       "      <td>False</td>\n",
       "      <td>False</td>\n",
       "      <td>False</td>\n",
       "      <td>False</td>\n",
       "      <td>False</td>\n",
       "      <td>Night</td>\n",
       "      <td>Night</td>\n",
       "      <td>Night</td>\n",
       "      <td>Night</td>\n",
       "      <td>1</td>\n",
       "      <td>3</td>\n",
       "      <td>4</td>\n",
       "      <td>1782.0</td>\n",
       "    </tr>\n",
       "    <tr>\n",
       "      <th>1</th>\n",
       "      <td>A-512352</td>\n",
       "      <td>33.894508</td>\n",
       "      <td>-84.538544</td>\n",
       "      <td>0.00</td>\n",
       "      <td>One lane blocked due to crash on GA-280 Cobb D...</td>\n",
       "      <td>68.0</td>\n",
       "      <td>88.0</td>\n",
       "      <td>28.72</td>\n",
       "      <td>10.0</td>\n",
       "      <td>0.0</td>\n",
       "      <td>0.0</td>\n",
       "      <td>Fair</td>\n",
       "      <td>False</td>\n",
       "      <td>False</td>\n",
       "      <td>True</td>\n",
       "      <td>False</td>\n",
       "      <td>False</td>\n",
       "      <td>False</td>\n",
       "      <td>False</td>\n",
       "      <td>False</td>\n",
       "      <td>False</td>\n",
       "      <td>False</td>\n",
       "      <td>False</td>\n",
       "      <td>True</td>\n",
       "      <td>Night</td>\n",
       "      <td>Night</td>\n",
       "      <td>Night</td>\n",
       "      <td>Night</td>\n",
       "      <td>0</td>\n",
       "      <td>3</td>\n",
       "      <td>5</td>\n",
       "      <td>1778.0</td>\n",
       "    </tr>\n",
       "    <tr>\n",
       "      <th>2</th>\n",
       "      <td>A-512365</td>\n",
       "      <td>33.551655</td>\n",
       "      <td>-83.358444</td>\n",
       "      <td>14.72</td>\n",
       "      <td>Main roadway closed due to crash on I-20 Westb...</td>\n",
       "      <td>66.0</td>\n",
       "      <td>94.0</td>\n",
       "      <td>29.13</td>\n",
       "      <td>7.0</td>\n",
       "      <td>0.0</td>\n",
       "      <td>0.0</td>\n",
       "      <td>Fair</td>\n",
       "      <td>False</td>\n",
       "      <td>False</td>\n",
       "      <td>False</td>\n",
       "      <td>False</td>\n",
       "      <td>False</td>\n",
       "      <td>False</td>\n",
       "      <td>False</td>\n",
       "      <td>False</td>\n",
       "      <td>False</td>\n",
       "      <td>False</td>\n",
       "      <td>False</td>\n",
       "      <td>False</td>\n",
       "      <td>Night</td>\n",
       "      <td>Night</td>\n",
       "      <td>Day</td>\n",
       "      <td>Day</td>\n",
       "      <td>1</td>\n",
       "      <td>3</td>\n",
       "      <td>6</td>\n",
       "      <td>3003.0</td>\n",
       "    </tr>\n",
       "    <tr>\n",
       "      <th>3</th>\n",
       "      <td>A-512389</td>\n",
       "      <td>33.912086</td>\n",
       "      <td>-84.379356</td>\n",
       "      <td>0.00</td>\n",
       "      <td>Right lane blocked due to crash on I-285 Westb...</td>\n",
       "      <td>82.0</td>\n",
       "      <td>62.0</td>\n",
       "      <td>28.77</td>\n",
       "      <td>10.0</td>\n",
       "      <td>8.0</td>\n",
       "      <td>0.0</td>\n",
       "      <td>Partly Cloudy</td>\n",
       "      <td>False</td>\n",
       "      <td>False</td>\n",
       "      <td>False</td>\n",
       "      <td>False</td>\n",
       "      <td>False</td>\n",
       "      <td>False</td>\n",
       "      <td>False</td>\n",
       "      <td>False</td>\n",
       "      <td>False</td>\n",
       "      <td>False</td>\n",
       "      <td>False</td>\n",
       "      <td>False</td>\n",
       "      <td>Day</td>\n",
       "      <td>Day</td>\n",
       "      <td>Day</td>\n",
       "      <td>Day</td>\n",
       "      <td>1</td>\n",
       "      <td>3</td>\n",
       "      <td>15</td>\n",
       "      <td>2654.0</td>\n",
       "    </tr>\n",
       "    <tr>\n",
       "      <th>4</th>\n",
       "      <td>A-512407</td>\n",
       "      <td>33.749706</td>\n",
       "      <td>-84.442772</td>\n",
       "      <td>0.00</td>\n",
       "      <td>Two lanes blocked due to crash on I-20 Westbou...</td>\n",
       "      <td>82.0</td>\n",
       "      <td>58.0</td>\n",
       "      <td>28.93</td>\n",
       "      <td>10.0</td>\n",
       "      <td>8.0</td>\n",
       "      <td>0.0</td>\n",
       "      <td>Mostly Cloudy</td>\n",
       "      <td>False</td>\n",
       "      <td>False</td>\n",
       "      <td>False</td>\n",
       "      <td>False</td>\n",
       "      <td>False</td>\n",
       "      <td>False</td>\n",
       "      <td>False</td>\n",
       "      <td>False</td>\n",
       "      <td>False</td>\n",
       "      <td>False</td>\n",
       "      <td>False</td>\n",
       "      <td>False</td>\n",
       "      <td>Day</td>\n",
       "      <td>Day</td>\n",
       "      <td>Day</td>\n",
       "      <td>Day</td>\n",
       "      <td>1</td>\n",
       "      <td>3</td>\n",
       "      <td>15</td>\n",
       "      <td>2672.0</td>\n",
       "    </tr>\n",
       "  </tbody>\n",
       "</table>\n",
       "</div>"
      ],
      "text/plain": [
       "         ID  Start_Lat  Start_Lng  Distance(mi)  \\\n",
       "0  A-512330  31.621950 -84.130920          0.00   \n",
       "1  A-512352  33.894508 -84.538544          0.00   \n",
       "2  A-512365  33.551655 -83.358444         14.72   \n",
       "3  A-512389  33.912086 -84.379356          0.00   \n",
       "4  A-512407  33.749706 -84.442772          0.00   \n",
       "\n",
       "                                         Description  Temperature(F)  \\\n",
       "0  Two lanes blocked due to crash on GA-91 Philem...            75.0   \n",
       "1  One lane blocked due to crash on GA-280 Cobb D...            68.0   \n",
       "2  Main roadway closed due to crash on I-20 Westb...            66.0   \n",
       "3  Right lane blocked due to crash on I-285 Westb...            82.0   \n",
       "4  Two lanes blocked due to crash on I-20 Westbou...            82.0   \n",
       "\n",
       "   Humidity(%)  Pressure(in)  Visibility(mi)  Wind_Speed(mph)  \\\n",
       "0         90.0         29.62             9.0              0.0   \n",
       "1         88.0         28.72            10.0              0.0   \n",
       "2         94.0         29.13             7.0              0.0   \n",
       "3         62.0         28.77            10.0              8.0   \n",
       "4         58.0         28.93            10.0              8.0   \n",
       "\n",
       "   Precipitation(in) Weather_Condition  Amenity   Bump  Crossing  Give_Way  \\\n",
       "0                0.0              Fair    False  False     False     False   \n",
       "1                0.0              Fair    False  False      True     False   \n",
       "2                0.0              Fair    False  False     False     False   \n",
       "3                0.0     Partly Cloudy    False  False     False     False   \n",
       "4                0.0     Mostly Cloudy    False  False     False     False   \n",
       "\n",
       "   Junction  No_Exit  Railway  Roundabout  Station   Stop  Traffic_Calming  \\\n",
       "0     False    False    False       False    False  False            False   \n",
       "1     False    False    False       False    False  False            False   \n",
       "2     False    False    False       False    False  False            False   \n",
       "3     False    False    False       False    False  False            False   \n",
       "4     False    False    False       False    False  False            False   \n",
       "\n",
       "   Traffic_Signal Sunrise_Sunset Civil_Twilight Nautical_Twilight  \\\n",
       "0           False          Night          Night             Night   \n",
       "1            True          Night          Night             Night   \n",
       "2           False          Night          Night               Day   \n",
       "3           False            Day            Day               Day   \n",
       "4           False            Day            Day               Day   \n",
       "\n",
       "  Astronomical_Twilight  severity_binary  DayOfWeek  HourOfDay  \\\n",
       "0                 Night                1          3          4   \n",
       "1                 Night                0          3          5   \n",
       "2                   Day                1          3          6   \n",
       "3                   Day                1          3         15   \n",
       "4                   Day                1          3         15   \n",
       "\n",
       "   accident_duration  \n",
       "0             1782.0  \n",
       "1             1778.0  \n",
       "2             3003.0  \n",
       "3             2654.0  \n",
       "4             2672.0  "
      ]
     },
     "execution_count": 11,
     "metadata": {},
     "output_type": "execute_result"
    }
   ],
   "source": [
    "data.head(5)"
   ]
  },
  {
   "cell_type": "code",
   "execution_count": 12,
   "id": "2ab01cde-5b6e-4429-b1f8-0b90ebb15d6a",
   "metadata": {},
   "outputs": [
    {
     "data": {
      "text/plain": [
       "(33129, 32)"
      ]
     },
     "execution_count": 12,
     "metadata": {},
     "output_type": "execute_result"
    }
   ],
   "source": [
    "data.shape"
   ]
  },
  {
   "cell_type": "code",
   "execution_count": 13,
   "id": "2d4bf00c-da7d-4fdb-a73d-85ca6e6c020f",
   "metadata": {},
   "outputs": [
    {
     "data": {
      "text/plain": [
       "ID                        object\n",
       "Start_Lat                float64\n",
       "Start_Lng                float64\n",
       "Distance(mi)             float64\n",
       "Description               object\n",
       "Temperature(F)           float64\n",
       "Humidity(%)              float64\n",
       "Pressure(in)             float64\n",
       "Visibility(mi)           float64\n",
       "Wind_Speed(mph)          float64\n",
       "Precipitation(in)        float64\n",
       "Weather_Condition         object\n",
       "Amenity                     bool\n",
       "Bump                        bool\n",
       "Crossing                    bool\n",
       "Give_Way                    bool\n",
       "Junction                    bool\n",
       "No_Exit                     bool\n",
       "Railway                     bool\n",
       "Roundabout                  bool\n",
       "Station                     bool\n",
       "Stop                        bool\n",
       "Traffic_Calming             bool\n",
       "Traffic_Signal              bool\n",
       "Sunrise_Sunset            object\n",
       "Civil_Twilight            object\n",
       "Nautical_Twilight         object\n",
       "Astronomical_Twilight     object\n",
       "severity_binary            int64\n",
       "DayOfWeek                  int32\n",
       "HourOfDay                  int32\n",
       "accident_duration        float64\n",
       "dtype: object"
      ]
     },
     "execution_count": 13,
     "metadata": {},
     "output_type": "execute_result"
    }
   ],
   "source": [
    "data.dtypes"
   ]
  },
  {
   "cell_type": "code",
   "execution_count": 14,
   "id": "a740a462-2021-4038-bbe3-49882f3e4474",
   "metadata": {},
   "outputs": [
    {
     "data": {
      "text/plain": [
       "Weather_Condition\n",
       "Fair                       15066\n",
       "Cloudy                      5260\n",
       "Mostly Cloudy               4542\n",
       "Partly Cloudy               3005\n",
       "Light Rain                  1870\n",
       "Fog                          635\n",
       "Rain                         512\n",
       "T-Storm                      269\n",
       "Thunder in the Vicinity      225\n",
       "Thunder                      168\n",
       "Light Rain with Thunder      145\n",
       "Heavy Rain                   144\n",
       "Light Drizzle                120\n",
       "Heavy T-Storm                115\n",
       "Fair / Windy                  73\n",
       "Cloudy / Windy                49\n",
       "Mostly Cloudy / Windy         47\n",
       "Light Rain / Windy            29\n",
       "Drizzle and Fog               27\n",
       "Haze                          27\n",
       "Drizzle                       22\n",
       "Light Snow                    21\n",
       "Rain / Windy                  21\n",
       "Shallow Fog                   13\n",
       "Wintry Mix                     9\n",
       "Heavy T-Storm / Windy          8\n",
       "Mist                           7\n",
       "Patches of Fog                 7\n",
       "T-Storm / Windy                6\n",
       "N/A Precipitation              5\n",
       "Light Rain Shower              5\n",
       "Partly Cloudy / Windy          4\n",
       "Wintry Mix / Windy             3\n",
       "Thunder / Windy                3\n",
       "Heavy Rain / Windy             3\n",
       "Showers in the Vicinity        2\n",
       "Light Snow / Windy             1\n",
       "Name: count, dtype: int64"
      ]
     },
     "execution_count": 14,
     "metadata": {},
     "output_type": "execute_result"
    }
   ],
   "source": [
    "data.Weather_Condition.value_counts()"
   ]
  },
  {
   "cell_type": "code",
   "execution_count": 15,
   "id": "a895b75a-bf49-4478-baf9-03b6d6ba09d3",
   "metadata": {},
   "outputs": [
    {
     "data": {
      "text/plain": [
       "661"
      ]
     },
     "execution_count": 15,
     "metadata": {},
     "output_type": "execute_result"
    }
   ],
   "source": [
    "data['Weather_Condition'].isna().sum()"
   ]
  },
  {
   "cell_type": "code",
   "execution_count": 16,
   "id": "b923ef85-5a8c-4fc3-a791-089f61d5ec7c",
   "metadata": {},
   "outputs": [
    {
     "name": "stdout",
     "output_type": "stream",
     "text": [
      "Most common words: [('fair', 15139), ('cloudy', 12907), ('mostly', 4589), ('partly', 3009), ('rain', 2729), ('light', 2191), ('fog', 682), ('thunder', 541), ('t-storm', 398), ('heavy', 270), ('/', 247), ('windy', 247), ('in', 227), ('the', 227), ('vicinity', 227), ('drizzle', 169), ('with', 145), ('haze', 27), ('and', 27), ('snow', 22), ('shallow', 13), ('wintry', 12), ('mix', 12), ('mist', 7), ('patches', 7), ('of', 7), ('shower', 5), ('n/a', 5), ('precipitation', 5), ('showers', 2)]\n"
     ]
    }
   ],
   "source": [
    "#find most common used word in weather column\n",
    "from collections import Counter\n",
    "data['Weather_Condition'] = data['Weather_Condition'].fillna('').astype(str)\n",
    "all_words = ' '.join(data['Weather_Condition']).lower().split()\n",
    "word_counts = Counter(all_words)\n",
    "print(\"Most common words:\", word_counts.most_common())"
   ]
  },
  {
   "cell_type": "code",
   "execution_count": 17,
   "id": "6152375c-0fb6-4ade-abbe-33937c3a884f",
   "metadata": {},
   "outputs": [],
   "source": [
    "def clean_weather(weather):\n",
    "    weather = str(weather).lower()\n",
    "\n",
    "    if 'fair' in weather:\n",
    "        return 'fair'\n",
    "    elif 'thunder' in weather or 'storm' in weather:\n",
    "        return 'storm'\n",
    "    elif 'rain' in weather or 'drizzle' in weather or 'shower' in weather:\n",
    "        return 'rain'\n",
    "    elif 'snow' in weather:\n",
    "        return 'snow'\n",
    "    elif 'windy' in weather:\n",
    "        return 'windy'\n",
    "    elif 'cloudy' in weather:\n",
    "        return 'cloudy'\n",
    "    elif 'fog' in weather or 'haze' in weather:\n",
    "        return 'fog'\n",
    "    elif weather == '':\n",
    "        return 'unknown'\n",
    "    else:\n",
    "        return 'other' \n",
    "\n",
    "data['cleaned_weather'] = data['Weather_Condition'].apply(clean_weather)\n",
    "data = data.drop(columns = ['Weather_Condition'])"
   ]
  },
  {
   "cell_type": "code",
   "execution_count": 18,
   "id": "2d4125f0-7ae1-467b-8f6e-eb7ff648de01",
   "metadata": {},
   "outputs": [
    {
     "data": {
      "text/plain": [
       "cleaned_weather\n",
       "fair       15139\n",
       "cloudy     12807\n",
       "rain        2755\n",
       "storm        939\n",
       "fog          682\n",
       "unknown      661\n",
       "windy        103\n",
       "snow          22\n",
       "other         21\n",
       "Name: count, dtype: int64"
      ]
     },
     "execution_count": 18,
     "metadata": {},
     "output_type": "execute_result"
    }
   ],
   "source": [
    "data['cleaned_weather'].value_counts()"
   ]
  },
  {
   "cell_type": "code",
   "execution_count": 19,
   "id": "d1776c11-1d78-469a-83b4-11e5d169ff83",
   "metadata": {},
   "outputs": [
    {
     "data": {
      "text/plain": [
       "(33129, 32)"
      ]
     },
     "execution_count": 19,
     "metadata": {},
     "output_type": "execute_result"
    }
   ],
   "source": [
    "data.shape"
   ]
  },
  {
   "cell_type": "code",
   "execution_count": 20,
   "id": "4c750d6c-fac2-4809-9b6c-7624cb65a960",
   "metadata": {},
   "outputs": [
    {
     "name": "stdout",
     "output_type": "stream",
     "text": [
      "      Categorical_Column  Unique_Values_Count\n",
      "0                     ID                33129\n",
      "1            Description                16947\n",
      "2         Sunrise_Sunset                    2\n",
      "3         Civil_Twilight                    2\n",
      "4      Nautical_Twilight                    2\n",
      "5  Astronomical_Twilight                    2\n",
      "6        cleaned_weather                    9\n"
     ]
    }
   ],
   "source": [
    "cat_cols = data.select_dtypes(include=['object']).columns\n",
    "\n",
    "# create a summary df of each categorical feature\n",
    "result = pd.DataFrame({\n",
    "    'Categorical_Column': cat_cols,\n",
    "    'Unique_Values_Count': [data[col].nunique() for col in cat_cols]\n",
    "})\n",
    "print(result)"
   ]
  },
  {
   "cell_type": "code",
   "execution_count": 21,
   "id": "6de64142-3fc2-447a-b299-14142aa195a4",
   "metadata": {},
   "outputs": [
    {
     "name": "stderr",
     "output_type": "stream",
     "text": [
      "/var/folders/6w/55ktrcq55w369hjz_yf_vz880000gn/T/ipykernel_11138/72712009.py:3: FutureWarning: A value is trying to be set on a copy of a DataFrame or Series through chained assignment using an inplace method.\n",
      "The behavior will change in pandas 3.0. This inplace method will never work because the intermediate object on which we are setting values always behaves as a copy.\n",
      "\n",
      "For example, when doing 'df[col].method(value, inplace=True)', try using 'df.method({col: value}, inplace=True)' or df[col] = df[col].method(value) instead, to perform the operation inplace on the original object.\n",
      "\n",
      "\n",
      "  data[col].fillna(data[col].mode()[0], inplace=True)\n"
     ]
    }
   ],
   "source": [
    "#impute missing with mode\n",
    "for col in cat_cols:\n",
    "    data[col].fillna(data[col].mode()[0], inplace=True)"
   ]
  },
  {
   "cell_type": "code",
   "execution_count": 22,
   "id": "5a4e058f-0c62-4336-8431-cb4ee831a226",
   "metadata": {},
   "outputs": [
    {
     "data": {
      "text/plain": [
       "ID                          0\n",
       "Start_Lat                   0\n",
       "Start_Lng                   0\n",
       "Distance(mi)                0\n",
       "Description                 0\n",
       "Temperature(F)            671\n",
       "Humidity(%)               683\n",
       "Pressure(in)              612\n",
       "Visibility(mi)            734\n",
       "Wind_Speed(mph)           876\n",
       "Precipitation(in)        2248\n",
       "Amenity                     0\n",
       "Bump                        0\n",
       "Crossing                    0\n",
       "Give_Way                    0\n",
       "Junction                    0\n",
       "No_Exit                     0\n",
       "Railway                     0\n",
       "Roundabout                  0\n",
       "Station                     0\n",
       "Stop                        0\n",
       "Traffic_Calming             0\n",
       "Traffic_Signal              0\n",
       "Sunrise_Sunset              0\n",
       "Civil_Twilight              0\n",
       "Nautical_Twilight           0\n",
       "Astronomical_Twilight       0\n",
       "severity_binary             0\n",
       "DayOfWeek                   0\n",
       "HourOfDay                   0\n",
       "accident_duration           0\n",
       "cleaned_weather             0\n",
       "dtype: int64"
      ]
     },
     "execution_count": 22,
     "metadata": {},
     "output_type": "execute_result"
    }
   ],
   "source": [
    "data.isna().sum()"
   ]
  },
  {
   "cell_type": "code",
   "execution_count": 23,
   "id": "15b3794f-2c7a-405f-8666-e20cfc942e5a",
   "metadata": {},
   "outputs": [],
   "source": [
    "#if value count less then 10 then convert into dummies, greater than 10 convert into numeric\n",
    "dummies = list(result[result.Unique_Values_Count <=10]['Categorical_Column'])\n",
    "data = pd.get_dummies(data, columns=dummies, drop_first=True)"
   ]
  },
  {
   "cell_type": "code",
   "execution_count": 24,
   "id": "18acb935-b3b4-4a84-ab41-4e1eb24e2a20",
   "metadata": {},
   "outputs": [
    {
     "data": {
      "text/plain": [
       "(33129, 39)"
      ]
     },
     "execution_count": 24,
     "metadata": {},
     "output_type": "execute_result"
    }
   ],
   "source": [
    "data.shape"
   ]
  },
  {
   "cell_type": "code",
   "execution_count": 25,
   "id": "fb4ca135-d1c1-4cf5-8668-decfd1856b75",
   "metadata": {},
   "outputs": [],
   "source": [
    "import sys\n",
    "sys.path.append('./Code_V2/')\n",
    "import public_func as base"
   ]
  },
  {
   "cell_type": "code",
   "execution_count": 26,
   "id": "cc1affd1-f0a6-4524-b725-f75c1d8c63ea",
   "metadata": {},
   "outputs": [
    {
     "name": "stdout",
     "output_type": "stream",
     "text": [
      "Convert categorical data into numerical...\n",
      "Categorical fields:                ID                                        Description  Amenity  \\\n",
      "0       A-512330  Two lanes blocked due to crash on GA-91 Philem...    False   \n",
      "1       A-512352  One lane blocked due to crash on GA-280 Cobb D...    False   \n",
      "2       A-512365  Main roadway closed due to crash on I-20 Westb...    False   \n",
      "3       A-512389  Right lane blocked due to crash on I-285 Westb...    False   \n",
      "4       A-512407  Two lanes blocked due to crash on I-20 Westbou...    False   \n",
      "...          ...                                                ...      ...   \n",
      "33124  A-5464466  Incident on I-285 NB near I-20 Drive with caut...    False   \n",
      "33125  A-5464527  Stationary traffic on GA-520 - GA-55 from Main...    False   \n",
      "33126  A-5464583  Crash on SR 1 both directions at SR 116. All l...    False   \n",
      "33127  A-5464632  Slow traffic on I-75 N - GA-401 N - GA-403 N -...    False   \n",
      "33128  A-5464696  Incident on I-85 SB near I-285 Road closed. Ta...    False   \n",
      "\n",
      "        Bump  Crossing  Give_Way  Junction  No_Exit  Railway  Roundabout  \\\n",
      "0      False     False     False     False    False    False       False   \n",
      "1      False      True     False     False    False    False       False   \n",
      "2      False     False     False     False    False    False       False   \n",
      "3      False     False     False     False    False    False       False   \n",
      "4      False     False     False     False    False    False       False   \n",
      "...      ...       ...       ...       ...      ...      ...         ...   \n",
      "33124  False     False     False     False    False    False       False   \n",
      "33125  False     False     False     False    False    False       False   \n",
      "33126  False      True     False     False    False    False       False   \n",
      "33127  False     False     False     False    False    False       False   \n",
      "33128  False     False     False     False    False    False       False   \n",
      "\n",
      "       Station   Stop  Traffic_Calming  Traffic_Signal  Sunrise_Sunset_Night  \\\n",
      "0        False  False            False           False                  True   \n",
      "1        False  False            False            True                  True   \n",
      "2        False  False            False           False                  True   \n",
      "3        False  False            False           False                 False   \n",
      "4        False  False            False           False                 False   \n",
      "...        ...    ...              ...             ...                   ...   \n",
      "33124    False  False            False           False                 False   \n",
      "33125    False  False            False           False                  True   \n",
      "33126    False  False            False            True                  True   \n",
      "33127    False  False            False           False                 False   \n",
      "33128    False  False            False           False                  True   \n",
      "\n",
      "       Civil_Twilight_Night  Nautical_Twilight_Night  \\\n",
      "0                      True                     True   \n",
      "1                      True                     True   \n",
      "2                      True                    False   \n",
      "3                     False                    False   \n",
      "4                     False                    False   \n",
      "...                     ...                      ...   \n",
      "33124                 False                    False   \n",
      "33125                  True                     True   \n",
      "33126                  True                     True   \n",
      "33127                 False                    False   \n",
      "33128                  True                     True   \n",
      "\n",
      "       Astronomical_Twilight_Night  cleaned_weather_fair  cleaned_weather_fog  \\\n",
      "0                             True                  True                False   \n",
      "1                             True                  True                False   \n",
      "2                            False                  True                False   \n",
      "3                            False                 False                False   \n",
      "4                            False                 False                False   \n",
      "...                            ...                   ...                  ...   \n",
      "33124                        False                 False                False   \n",
      "33125                         True                 False                False   \n",
      "33126                         True                 False                False   \n",
      "33127                        False                 False                False   \n",
      "33128                         True                 False                False   \n",
      "\n",
      "       cleaned_weather_other  cleaned_weather_rain  cleaned_weather_snow  \\\n",
      "0                      False                 False                 False   \n",
      "1                      False                 False                 False   \n",
      "2                      False                 False                 False   \n",
      "3                      False                 False                 False   \n",
      "4                      False                 False                 False   \n",
      "...                      ...                   ...                   ...   \n",
      "33124                  False                 False                 False   \n",
      "33125                  False                 False                 False   \n",
      "33126                  False                 False                 False   \n",
      "33127                  False                 False                 False   \n",
      "33128                  False                 False                 False   \n",
      "\n",
      "       cleaned_weather_storm  cleaned_weather_unknown  cleaned_weather_windy  \n",
      "0                      False                    False                  False  \n",
      "1                      False                    False                  False  \n",
      "2                      False                    False                  False  \n",
      "3                      False                    False                  False  \n",
      "4                      False                    False                  False  \n",
      "...                      ...                      ...                    ...  \n",
      "33124                  False                    False                  False  \n",
      "33125                  False                     True                  False  \n",
      "33126                  False                    False                  False  \n",
      "33127                  False                    False                  False  \n",
      "33128                  False                    False                  False  \n",
      "\n",
      "[33129 rows x 26 columns]\n",
      "\n",
      "### Data sample ###\n",
      "         ID  Start_Lat  Start_Lng  Distance(mi)  \\\n",
      "0  A-512330  31.621950 -84.130920          0.00   \n",
      "1  A-512352  33.894508 -84.538544          0.00   \n",
      "2  A-512365  33.551655 -83.358444         14.72   \n",
      "3  A-512389  33.912086 -84.379356          0.00   \n",
      "4  A-512407  33.749706 -84.442772          0.00   \n",
      "\n",
      "                                         Description  Temperature(F)  \\\n",
      "0  Two lanes blocked due to crash on GA-91 Philem...            75.0   \n",
      "1  One lane blocked due to crash on GA-280 Cobb D...            68.0   \n",
      "2  Main roadway closed due to crash on I-20 Westb...            66.0   \n",
      "3  Right lane blocked due to crash on I-285 Westb...            82.0   \n",
      "4  Two lanes blocked due to crash on I-20 Westbou...            82.0   \n",
      "\n",
      "   Humidity(%)  Pressure(in)  Visibility(mi)  Wind_Speed(mph)  \\\n",
      "0         90.0         29.62             9.0              0.0   \n",
      "1         88.0         28.72            10.0              0.0   \n",
      "2         94.0         29.13             7.0              0.0   \n",
      "3         62.0         28.77            10.0              8.0   \n",
      "4         58.0         28.93            10.0              8.0   \n",
      "\n",
      "   Precipitation(in)  Amenity  Bump  Crossing  Give_Way  Junction  No_Exit  \\\n",
      "0                0.0        0     0         0         0         0        0   \n",
      "1                0.0        0     0         1         0         0        0   \n",
      "2                0.0        0     0         0         0         0        0   \n",
      "3                0.0        0     0         0         0         0        0   \n",
      "4                0.0        0     0         0         0         0        0   \n",
      "\n",
      "   Railway  Roundabout  Station  Stop  Traffic_Calming  Traffic_Signal  \\\n",
      "0        0           0        0     0                0               0   \n",
      "1        0           0        0     0                0               1   \n",
      "2        0           0        0     0                0               0   \n",
      "3        0           0        0     0                0               0   \n",
      "4        0           0        0     0                0               0   \n",
      "\n",
      "   severity_binary  DayOfWeek  HourOfDay  accident_duration  \\\n",
      "0                1          3          4             1782.0   \n",
      "1                0          3          5             1778.0   \n",
      "2                1          3          6             3003.0   \n",
      "3                1          3         15             2654.0   \n",
      "4                1          3         15             2672.0   \n",
      "\n",
      "   Sunrise_Sunset_Night  Civil_Twilight_Night  Nautical_Twilight_Night  \\\n",
      "0                     1                     1                        1   \n",
      "1                     1                     1                        1   \n",
      "2                     1                     1                        0   \n",
      "3                     0                     0                        0   \n",
      "4                     0                     0                        0   \n",
      "\n",
      "   Astronomical_Twilight_Night  cleaned_weather_fair  cleaned_weather_fog  \\\n",
      "0                            1                     1                    0   \n",
      "1                            1                     1                    0   \n",
      "2                            0                     1                    0   \n",
      "3                            0                     0                    0   \n",
      "4                            0                     0                    0   \n",
      "\n",
      "   cleaned_weather_other  cleaned_weather_rain  cleaned_weather_snow  \\\n",
      "0                      0                     0                     0   \n",
      "1                      0                     0                     0   \n",
      "2                      0                     0                     0   \n",
      "3                      0                     0                     0   \n",
      "4                      0                     0                     0   \n",
      "\n",
      "   cleaned_weather_storm  cleaned_weather_unknown  cleaned_weather_windy  \n",
      "0                      0                        0                      0  \n",
      "1                      0                        0                      0  \n",
      "2                      0                        0                      0  \n",
      "3                      0                        0                      0  \n",
      "4                      0                        0                      0  \n",
      "\n",
      "### Data info ###\n",
      "<class 'pandas.core.frame.DataFrame'>\n",
      "RangeIndex: 33129 entries, 0 to 33128\n",
      "Data columns (total 39 columns):\n",
      " #   Column                       Non-Null Count  Dtype  \n",
      "---  ------                       --------------  -----  \n",
      " 0   ID                           33129 non-null  object \n",
      " 1   Start_Lat                    33129 non-null  float64\n",
      " 2   Start_Lng                    33129 non-null  float64\n",
      " 3   Distance(mi)                 33129 non-null  float64\n",
      " 4   Description                  33129 non-null  object \n",
      " 5   Temperature(F)               32458 non-null  float64\n",
      " 6   Humidity(%)                  32446 non-null  float64\n",
      " 7   Pressure(in)                 32517 non-null  float64\n",
      " 8   Visibility(mi)               32395 non-null  float64\n",
      " 9   Wind_Speed(mph)              32253 non-null  float64\n",
      " 10  Precipitation(in)            30881 non-null  float64\n",
      " 11  Amenity                      33129 non-null  int64  \n",
      " 12  Bump                         33129 non-null  int64  \n",
      " 13  Crossing                     33129 non-null  int64  \n",
      " 14  Give_Way                     33129 non-null  int64  \n",
      " 15  Junction                     33129 non-null  int64  \n",
      " 16  No_Exit                      33129 non-null  int64  \n",
      " 17  Railway                      33129 non-null  int64  \n",
      " 18  Roundabout                   33129 non-null  int64  \n",
      " 19  Station                      33129 non-null  int64  \n",
      " 20  Stop                         33129 non-null  int64  \n",
      " 21  Traffic_Calming              33129 non-null  int64  \n",
      " 22  Traffic_Signal               33129 non-null  int64  \n",
      " 23  severity_binary              33129 non-null  int64  \n",
      " 24  DayOfWeek                    33129 non-null  int32  \n",
      " 25  HourOfDay                    33129 non-null  int32  \n",
      " 26  accident_duration            33129 non-null  float64\n",
      " 27  Sunrise_Sunset_Night         33129 non-null  int64  \n",
      " 28  Civil_Twilight_Night         33129 non-null  int64  \n",
      " 29  Nautical_Twilight_Night      33129 non-null  int64  \n",
      " 30  Astronomical_Twilight_Night  33129 non-null  int64  \n",
      " 31  cleaned_weather_fair         33129 non-null  int64  \n",
      " 32  cleaned_weather_fog          33129 non-null  int64  \n",
      " 33  cleaned_weather_other        33129 non-null  int64  \n",
      " 34  cleaned_weather_rain         33129 non-null  int64  \n",
      " 35  cleaned_weather_snow         33129 non-null  int64  \n",
      " 36  cleaned_weather_storm        33129 non-null  int64  \n",
      " 37  cleaned_weather_unknown      33129 non-null  int64  \n",
      " 38  cleaned_weather_windy        33129 non-null  int64  \n",
      "dtypes: float64(10), int32(2), int64(25), object(2)\n",
      "memory usage: 9.6+ MB\n",
      "None\n"
     ]
    }
   ],
   "source": [
    "new_data = base.convert_numerical(data, exclusive = ['Description', 'ID'])"
   ]
  },
  {
   "cell_type": "code",
   "execution_count": 27,
   "id": "2c1f2717-d29e-4387-83d5-c2526dc79fac",
   "metadata": {},
   "outputs": [
    {
     "data": {
      "text/plain": [
       "(33129, 39)"
      ]
     },
     "execution_count": 27,
     "metadata": {},
     "output_type": "execute_result"
    }
   ],
   "source": [
    "new_data.shape"
   ]
  },
  {
   "cell_type": "markdown",
   "id": "da66882e-de24-42b2-a63a-e6f78284f915",
   "metadata": {},
   "source": [
    "impute missing of numeric features"
   ]
  },
  {
   "cell_type": "code",
   "execution_count": 28,
   "id": "9807817f-067d-4c1f-bac0-ba29806d311e",
   "metadata": {},
   "outputs": [],
   "source": [
    "num_cols = new_data.select_dtypes(include=['number']).columns\n",
    "new_data[num_cols] = new_data[num_cols].apply(lambda x: x.fillna(x.median()))"
   ]
  },
  {
   "cell_type": "code",
   "execution_count": 29,
   "id": "64f34f42-e961-47eb-a14f-38b6c30a0cfc",
   "metadata": {},
   "outputs": [
    {
     "data": {
      "text/plain": [
       "ID                             0\n",
       "Start_Lat                      0\n",
       "Start_Lng                      0\n",
       "Distance(mi)                   0\n",
       "Description                    0\n",
       "Temperature(F)                 0\n",
       "Humidity(%)                    0\n",
       "Pressure(in)                   0\n",
       "Visibility(mi)                 0\n",
       "Wind_Speed(mph)                0\n",
       "Precipitation(in)              0\n",
       "Amenity                        0\n",
       "Bump                           0\n",
       "Crossing                       0\n",
       "Give_Way                       0\n",
       "Junction                       0\n",
       "No_Exit                        0\n",
       "Railway                        0\n",
       "Roundabout                     0\n",
       "Station                        0\n",
       "Stop                           0\n",
       "Traffic_Calming                0\n",
       "Traffic_Signal                 0\n",
       "severity_binary                0\n",
       "DayOfWeek                      0\n",
       "HourOfDay                      0\n",
       "accident_duration              0\n",
       "Sunrise_Sunset_Night           0\n",
       "Civil_Twilight_Night           0\n",
       "Nautical_Twilight_Night        0\n",
       "Astronomical_Twilight_Night    0\n",
       "cleaned_weather_fair           0\n",
       "cleaned_weather_fog            0\n",
       "cleaned_weather_other          0\n",
       "cleaned_weather_rain           0\n",
       "cleaned_weather_snow           0\n",
       "cleaned_weather_storm          0\n",
       "cleaned_weather_unknown        0\n",
       "cleaned_weather_windy          0\n",
       "dtype: int64"
      ]
     },
     "execution_count": 29,
     "metadata": {},
     "output_type": "execute_result"
    }
   ],
   "source": [
    "new_data.isna().sum()"
   ]
  },
  {
   "cell_type": "code",
   "execution_count": 30,
   "id": "5023078c-d161-42a7-a00f-864182718392",
   "metadata": {},
   "outputs": [],
   "source": [
    "new_data.to_csv('./cleaned_data.csv', index=False)"
   ]
  },
  {
   "cell_type": "code",
   "execution_count": null,
   "id": "0dfb6c60-e473-46a6-9c3d-b5b0e4854d58",
   "metadata": {},
   "outputs": [],
   "source": []
  }
 ],
 "metadata": {
  "kernelspec": {
   "display_name": "Python 3 (ipykernel)",
   "language": "python",
   "name": "python3"
  },
  "language_info": {
   "codemirror_mode": {
    "name": "ipython",
    "version": 3
   },
   "file_extension": ".py",
   "mimetype": "text/x-python",
   "name": "python",
   "nbconvert_exporter": "python",
   "pygments_lexer": "ipython3",
   "version": "3.12.7"
  }
 },
 "nbformat": 4,
 "nbformat_minor": 5
}
