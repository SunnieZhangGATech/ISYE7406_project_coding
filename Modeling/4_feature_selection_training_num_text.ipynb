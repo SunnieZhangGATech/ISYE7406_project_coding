{
 "cells": [
  {
   "cell_type": "code",
   "execution_count": 1,
   "id": "96a44005-f0d0-4a76-b066-6d059578f404",
   "metadata": {},
   "outputs": [],
   "source": [
    "import pandas as pd\n",
    "import numpy as np"
   ]
  },
  {
   "cell_type": "code",
   "execution_count": 2,
   "id": "e4dba331-6a59-4185-a255-413930d04701",
   "metadata": {},
   "outputs": [],
   "source": [
    "#read cleaned data and text mining result\n",
    "clean = pd.read_csv('./cleaned_data.csv')\n",
    "text = pd.read_csv('./text_mining.csv')"
   ]
  },
  {
   "cell_type": "code",
   "execution_count": 3,
   "id": "fc59d78e-3730-4a27-b932-934b60134777",
   "metadata": {},
   "outputs": [
    {
     "data": {
      "text/plain": [
       "((33129, 43), (33129, 150))"
      ]
     },
     "execution_count": 3,
     "metadata": {},
     "output_type": "execute_result"
    }
   ],
   "source": [
    "clean.shape, text.shape"
   ]
  },
  {
   "cell_type": "code",
   "execution_count": 4,
   "id": "bf268b3b-6c1d-4a51-a5ea-7c8851ef7d8e",
   "metadata": {},
   "outputs": [
    {
     "data": {
      "text/plain": [
       "41"
      ]
     },
     "execution_count": 4,
     "metadata": {},
     "output_type": "execute_result"
    }
   ],
   "source": [
    "# scale = list(set(clean.columns)-set(['ID', 'Description']))\n",
    "# len(scale)"
   ]
  },
  {
   "cell_type": "code",
   "execution_count": 6,
   "id": "11c9dcb9-8caa-446f-87d4-b282fbb39b70",
   "metadata": {},
   "outputs": [],
   "source": [
    "# from sklearn.preprocessing import MinMaxScaler\n",
    "# scaler = MinMaxScaler()\n",
    "# clean[scale] = scaler.fit_transform(clean[scale])\n",
    "clean = clean[['severity_binary']]"
   ]
  },
  {
   "cell_type": "code",
   "execution_count": 7,
   "id": "b1207bf0-e9ea-461c-8c15-37647b5b4476",
   "metadata": {},
   "outputs": [
    {
     "data": {
      "text/html": [
       "<div>\n",
       "<style scoped>\n",
       "    .dataframe tbody tr th:only-of-type {\n",
       "        vertical-align: middle;\n",
       "    }\n",
       "\n",
       "    .dataframe tbody tr th {\n",
       "        vertical-align: top;\n",
       "    }\n",
       "\n",
       "    .dataframe thead th {\n",
       "        text-align: right;\n",
       "    }\n",
       "</style>\n",
       "<table border=\"1\" class=\"dataframe\">\n",
       "  <thead>\n",
       "    <tr style=\"text-align: right;\">\n",
       "      <th></th>\n",
       "      <th>severity_binary</th>\n",
       "    </tr>\n",
       "  </thead>\n",
       "  <tbody>\n",
       "    <tr>\n",
       "      <th>count</th>\n",
       "      <td>33129.000000</td>\n",
       "    </tr>\n",
       "    <tr>\n",
       "      <th>mean</th>\n",
       "      <td>0.198135</td>\n",
       "    </tr>\n",
       "    <tr>\n",
       "      <th>std</th>\n",
       "      <td>0.398600</td>\n",
       "    </tr>\n",
       "    <tr>\n",
       "      <th>min</th>\n",
       "      <td>0.000000</td>\n",
       "    </tr>\n",
       "    <tr>\n",
       "      <th>25%</th>\n",
       "      <td>0.000000</td>\n",
       "    </tr>\n",
       "    <tr>\n",
       "      <th>50%</th>\n",
       "      <td>0.000000</td>\n",
       "    </tr>\n",
       "    <tr>\n",
       "      <th>75%</th>\n",
       "      <td>0.000000</td>\n",
       "    </tr>\n",
       "    <tr>\n",
       "      <th>max</th>\n",
       "      <td>1.000000</td>\n",
       "    </tr>\n",
       "  </tbody>\n",
       "</table>\n",
       "</div>"
      ],
      "text/plain": [
       "       severity_binary\n",
       "count     33129.000000\n",
       "mean          0.198135\n",
       "std           0.398600\n",
       "min           0.000000\n",
       "25%           0.000000\n",
       "50%           0.000000\n",
       "75%           0.000000\n",
       "max           1.000000"
      ]
     },
     "execution_count": 7,
     "metadata": {},
     "output_type": "execute_result"
    }
   ],
   "source": [
    "clean.describe()"
   ]
  },
  {
   "cell_type": "code",
   "execution_count": 8,
   "id": "396f0271-adf3-4298-af6b-6a58bb3a3060",
   "metadata": {},
   "outputs": [
    {
     "data": {
      "text/plain": [
       "(33129, 151)"
      ]
     },
     "execution_count": 8,
     "metadata": {},
     "output_type": "execute_result"
    }
   ],
   "source": [
    "data = clean.merge(text, left_index = True, right_index=True, how = 'left')\n",
    "data.shape"
   ]
  },
  {
   "cell_type": "code",
   "execution_count": 8,
   "id": "41a54188-0f22-4e40-92ee-baf9981fd8c1",
   "metadata": {},
   "outputs": [],
   "source": [
    "# data = text.copy()"
   ]
  },
  {
   "cell_type": "code",
   "execution_count": 9,
   "id": "deb4283d-c89c-4d7b-af02-749542e5d862",
   "metadata": {},
   "outputs": [],
   "source": [
    "# data = data.set_index('ID')\n",
    "# data = data.drop(columns = ['Description'])"
   ]
  },
  {
   "cell_type": "code",
   "execution_count": 9,
   "id": "fd883f43-52ec-4cdd-8fbf-050f02df38b3",
   "metadata": {},
   "outputs": [
    {
     "data": {
      "text/plain": [
       "(33129, 151)"
      ]
     },
     "execution_count": 9,
     "metadata": {},
     "output_type": "execute_result"
    }
   ],
   "source": [
    "data.shape"
   ]
  },
  {
   "cell_type": "markdown",
   "id": "0cd176e3-4806-469d-8d0d-617868cec24e",
   "metadata": {},
   "source": [
    "### Feature selections"
   ]
  },
  {
   "cell_type": "markdown",
   "id": "6e2db51f-d018-44fc-8327-ccea8be4ced0",
   "metadata": {},
   "source": [
    "Boruta, Lasso, Mutual Information (Information Value), PCA"
   ]
  },
  {
   "cell_type": "code",
   "execution_count": 10,
   "id": "4067016d-eb9a-4c9d-83b9-7f6bb6f76cf2",
   "metadata": {},
   "outputs": [],
   "source": [
    "from boruta import BorutaPy"
   ]
  },
  {
   "cell_type": "code",
   "execution_count": 11,
   "id": "4c56a0b6-27e3-4914-b534-de57dc290037",
   "metadata": {},
   "outputs": [],
   "source": [
    "import sys\n",
    "sys.path.append('./Code_V2/')\n",
    "import public_func as base"
   ]
  },
  {
   "cell_type": "code",
   "execution_count": 12,
   "id": "03e6120f-7456-44a7-a2a3-2fff07fa5f4f",
   "metadata": {},
   "outputs": [],
   "source": [
    "output_folder = './chart/'\n",
    "X = data.drop(columns = ['severity_binary'])\n",
    "y = data.severity_binary"
   ]
  },
  {
   "cell_type": "code",
   "execution_count": 13,
   "id": "d7722856-3765-4f4a-a095-0e7540f081f4",
   "metadata": {},
   "outputs": [
    {
     "name": "stdout",
     "output_type": "stream",
     "text": [
      "Iteration: \t1 / 100\n",
      "Confirmed: \t0\n",
      "Tentative: \t150\n",
      "Rejected: \t0\n",
      "Iteration: \t2 / 100\n",
      "Confirmed: \t0\n",
      "Tentative: \t150\n",
      "Rejected: \t0\n",
      "Iteration: \t3 / 100\n",
      "Confirmed: \t0\n",
      "Tentative: \t150\n",
      "Rejected: \t0\n",
      "Iteration: \t4 / 100\n",
      "Confirmed: \t0\n",
      "Tentative: \t150\n",
      "Rejected: \t0\n",
      "Iteration: \t5 / 100\n",
      "Confirmed: \t0\n",
      "Tentative: \t150\n",
      "Rejected: \t0\n",
      "Iteration: \t6 / 100\n",
      "Confirmed: \t0\n",
      "Tentative: \t150\n",
      "Rejected: \t0\n",
      "Iteration: \t7 / 100\n",
      "Confirmed: \t0\n",
      "Tentative: \t150\n",
      "Rejected: \t0\n",
      "Iteration: \t8 / 100\n",
      "Confirmed: \t141\n",
      "Tentative: \t9\n",
      "Rejected: \t0\n",
      "Iteration: \t9 / 100\n",
      "Confirmed: \t141\n",
      "Tentative: \t9\n",
      "Rejected: \t0\n",
      "Iteration: \t10 / 100\n",
      "Confirmed: \t141\n",
      "Tentative: \t9\n",
      "Rejected: \t0\n",
      "Iteration: \t11 / 100\n",
      "Confirmed: \t141\n",
      "Tentative: \t9\n",
      "Rejected: \t0\n",
      "Iteration: \t12 / 100\n",
      "Confirmed: \t145\n",
      "Tentative: \t5\n",
      "Rejected: \t0\n",
      "Iteration: \t13 / 100\n",
      "Confirmed: \t145\n",
      "Tentative: \t5\n",
      "Rejected: \t0\n",
      "Iteration: \t14 / 100\n",
      "Confirmed: \t145\n",
      "Tentative: \t5\n",
      "Rejected: \t0\n",
      "Iteration: \t15 / 100\n",
      "Confirmed: \t145\n",
      "Tentative: \t5\n",
      "Rejected: \t0\n",
      "Iteration: \t16 / 100\n",
      "Confirmed: \t146\n",
      "Tentative: \t4\n",
      "Rejected: \t0\n",
      "Iteration: \t17 / 100\n",
      "Confirmed: \t146\n",
      "Tentative: \t4\n",
      "Rejected: \t0\n",
      "Iteration: \t18 / 100\n",
      "Confirmed: \t146\n",
      "Tentative: \t4\n",
      "Rejected: \t0\n",
      "Iteration: \t19 / 100\n",
      "Confirmed: \t146\n",
      "Tentative: \t4\n",
      "Rejected: \t0\n",
      "Iteration: \t20 / 100\n",
      "Confirmed: \t146\n",
      "Tentative: \t4\n",
      "Rejected: \t0\n",
      "Iteration: \t21 / 100\n",
      "Confirmed: \t146\n",
      "Tentative: \t4\n",
      "Rejected: \t0\n",
      "Iteration: \t22 / 100\n",
      "Confirmed: \t147\n",
      "Tentative: \t3\n",
      "Rejected: \t0\n",
      "Iteration: \t23 / 100\n",
      "Confirmed: \t147\n",
      "Tentative: \t3\n",
      "Rejected: \t0\n",
      "Iteration: \t24 / 100\n",
      "Confirmed: \t147\n",
      "Tentative: \t3\n",
      "Rejected: \t0\n",
      "Iteration: \t25 / 100\n",
      "Confirmed: \t147\n",
      "Tentative: \t3\n",
      "Rejected: \t0\n",
      "Iteration: \t26 / 100\n",
      "Confirmed: \t148\n",
      "Tentative: \t2\n",
      "Rejected: \t0\n",
      "Iteration: \t27 / 100\n",
      "Confirmed: \t148\n",
      "Tentative: \t2\n",
      "Rejected: \t0\n",
      "Iteration: \t28 / 100\n",
      "Confirmed: \t148\n",
      "Tentative: \t2\n",
      "Rejected: \t0\n",
      "Iteration: \t29 / 100\n",
      "Confirmed: \t148\n",
      "Tentative: \t2\n",
      "Rejected: \t0\n",
      "Iteration: \t30 / 100\n",
      "Confirmed: \t148\n",
      "Tentative: \t2\n",
      "Rejected: \t0\n",
      "Iteration: \t31 / 100\n",
      "Confirmed: \t148\n",
      "Tentative: \t2\n",
      "Rejected: \t0\n",
      "Iteration: \t32 / 100\n",
      "Confirmed: \t148\n",
      "Tentative: \t2\n",
      "Rejected: \t0\n",
      "Iteration: \t33 / 100\n",
      "Confirmed: \t148\n",
      "Tentative: \t2\n",
      "Rejected: \t0\n",
      "Iteration: \t34 / 100\n",
      "Confirmed: \t148\n",
      "Tentative: \t2\n",
      "Rejected: \t0\n",
      "Iteration: \t35 / 100\n",
      "Confirmed: \t148\n",
      "Tentative: \t2\n",
      "Rejected: \t0\n",
      "Iteration: \t36 / 100\n",
      "Confirmed: \t148\n",
      "Tentative: \t2\n",
      "Rejected: \t0\n",
      "Iteration: \t37 / 100\n",
      "Confirmed: \t148\n",
      "Tentative: \t2\n",
      "Rejected: \t0\n",
      "Iteration: \t38 / 100\n",
      "Confirmed: \t148\n",
      "Tentative: \t2\n",
      "Rejected: \t0\n",
      "Iteration: \t39 / 100\n",
      "Confirmed: \t148\n",
      "Tentative: \t2\n",
      "Rejected: \t0\n",
      "Iteration: \t40 / 100\n",
      "Confirmed: \t148\n",
      "Tentative: \t2\n",
      "Rejected: \t0\n",
      "Iteration: \t41 / 100\n",
      "Confirmed: \t148\n",
      "Tentative: \t2\n",
      "Rejected: \t0\n",
      "Iteration: \t42 / 100\n",
      "Confirmed: \t148\n",
      "Tentative: \t2\n",
      "Rejected: \t0\n",
      "Iteration: \t43 / 100\n",
      "Confirmed: \t148\n",
      "Tentative: \t2\n",
      "Rejected: \t0\n",
      "Iteration: \t44 / 100\n",
      "Confirmed: \t148\n",
      "Tentative: \t2\n",
      "Rejected: \t0\n",
      "Iteration: \t45 / 100\n",
      "Confirmed: \t148\n",
      "Tentative: \t2\n",
      "Rejected: \t0\n",
      "Iteration: \t46 / 100\n",
      "Confirmed: \t148\n",
      "Tentative: \t2\n",
      "Rejected: \t0\n",
      "Iteration: \t47 / 100\n",
      "Confirmed: \t148\n",
      "Tentative: \t2\n",
      "Rejected: \t0\n",
      "Iteration: \t48 / 100\n",
      "Confirmed: \t148\n",
      "Tentative: \t2\n",
      "Rejected: \t0\n",
      "Iteration: \t49 / 100\n",
      "Confirmed: \t148\n",
      "Tentative: \t2\n",
      "Rejected: \t0\n",
      "Iteration: \t50 / 100\n",
      "Confirmed: \t148\n",
      "Tentative: \t2\n",
      "Rejected: \t0\n",
      "Iteration: \t51 / 100\n",
      "Confirmed: \t148\n",
      "Tentative: \t2\n",
      "Rejected: \t0\n",
      "Iteration: \t52 / 100\n",
      "Confirmed: \t148\n",
      "Tentative: \t2\n",
      "Rejected: \t0\n",
      "Iteration: \t53 / 100\n",
      "Confirmed: \t148\n",
      "Tentative: \t2\n",
      "Rejected: \t0\n"
     ]
    },
    {
     "ename": "KeyboardInterrupt",
     "evalue": "",
     "output_type": "error",
     "traceback": [
      "\u001b[0;31m---------------------------------------------------------------------------\u001b[0m",
      "\u001b[0;31mKeyboardInterrupt\u001b[0m                         Traceback (most recent call last)",
      "Cell \u001b[0;32mIn[13], line 1\u001b[0m\n\u001b[0;32m----> 1\u001b[0m selected_features, rejected_features \u001b[38;5;241m=\u001b[39m base\u001b[38;5;241m.\u001b[39mBoruta_selection(X, y, ff_path\u001b[38;5;241m=\u001b[39moutput_folder \u001b[38;5;241m+\u001b[39m \u001b[38;5;124mf\u001b[39m\u001b[38;5;124m'\u001b[39m\u001b[38;5;124mboruta.png\u001b[39m\u001b[38;5;124m'\u001b[39m)\n",
      "File \u001b[0;32m~/Documents/GT Master of Analytics/ISYE 7406/Project/Code_V2/public_func.py:846\u001b[0m, in \u001b[0;36mBoruta_selection\u001b[0;34m(X, y, ff_path)\u001b[0m\n\u001b[1;32m    843\u001b[0m boruta_selector \u001b[38;5;241m=\u001b[39m BorutaPy(rf, n_estimators\u001b[38;5;241m=\u001b[39m\u001b[38;5;124m'\u001b[39m\u001b[38;5;124mauto\u001b[39m\u001b[38;5;124m'\u001b[39m, verbose\u001b[38;5;241m=\u001b[39m\u001b[38;5;241m2\u001b[39m, random_state\u001b[38;5;241m=\u001b[39m\u001b[38;5;241m42\u001b[39m)\n\u001b[1;32m    845\u001b[0m \u001b[38;5;66;03m# Fit Boruta\u001b[39;00m\n\u001b[0;32m--> 846\u001b[0m boruta_selector\u001b[38;5;241m.\u001b[39mfit(X_train\u001b[38;5;241m.\u001b[39mvalues, y_train\u001b[38;5;241m.\u001b[39mvalues)\n\u001b[1;32m    848\u001b[0m \u001b[38;5;66;03m# Get the ranking of features\u001b[39;00m\n\u001b[1;32m    849\u001b[0m feature_ranks \u001b[38;5;241m=\u001b[39m boruta_selector\u001b[38;5;241m.\u001b[39mranking_\n",
      "File \u001b[0;32m/opt/anaconda3/lib/python3.12/site-packages/boruta/boruta_py.py:222\u001b[0m, in \u001b[0;36mBorutaPy.fit\u001b[0;34m(self, X, y)\u001b[0m\n\u001b[1;32m    209\u001b[0m \u001b[38;5;28;01mdef\u001b[39;00m \u001b[38;5;21mfit\u001b[39m(\u001b[38;5;28mself\u001b[39m, X, y):\n\u001b[1;32m    210\u001b[0m \u001b[38;5;250m    \u001b[39m\u001b[38;5;124;03m\"\"\"\u001b[39;00m\n\u001b[1;32m    211\u001b[0m \u001b[38;5;124;03m    Fits the Boruta feature selection with the provided estimator.\u001b[39;00m\n\u001b[1;32m    212\u001b[0m \n\u001b[0;32m   (...)\u001b[0m\n\u001b[1;32m    219\u001b[0m \u001b[38;5;124;03m        The target values.\u001b[39;00m\n\u001b[1;32m    220\u001b[0m \u001b[38;5;124;03m    \"\"\"\u001b[39;00m\n\u001b[0;32m--> 222\u001b[0m     \u001b[38;5;28;01mreturn\u001b[39;00m \u001b[38;5;28mself\u001b[39m\u001b[38;5;241m.\u001b[39m_fit(X, y)\n",
      "File \u001b[0;32m/opt/anaconda3/lib/python3.12/site-packages/boruta/boruta_py.py:347\u001b[0m, in \u001b[0;36mBorutaPy._fit\u001b[0;34m(self, X, y)\u001b[0m\n\u001b[1;32m    344\u001b[0m     \u001b[38;5;28mself\u001b[39m\u001b[38;5;241m.\u001b[39mestimator\u001b[38;5;241m.\u001b[39mset_params(random_state\u001b[38;5;241m=\u001b[39m\u001b[38;5;28mself\u001b[39m\u001b[38;5;241m.\u001b[39mrandom_state)\n\u001b[1;32m    346\u001b[0m \u001b[38;5;66;03m# add shadow attributes, shuffle them and train estimator, get imps\u001b[39;00m\n\u001b[0;32m--> 347\u001b[0m cur_imp \u001b[38;5;241m=\u001b[39m \u001b[38;5;28mself\u001b[39m\u001b[38;5;241m.\u001b[39m_add_shadows_get_imps(X, y, dec_reg)\n\u001b[1;32m    349\u001b[0m \u001b[38;5;66;03m# get the threshold of shadow importances we will use for rejection\u001b[39;00m\n\u001b[1;32m    350\u001b[0m imp_sha_max \u001b[38;5;241m=\u001b[39m np\u001b[38;5;241m.\u001b[39mpercentile(cur_imp[\u001b[38;5;241m1\u001b[39m], \u001b[38;5;28mself\u001b[39m\u001b[38;5;241m.\u001b[39mperc)\n",
      "File \u001b[0;32m/opt/anaconda3/lib/python3.12/site-packages/boruta/boruta_py.py:503\u001b[0m, in \u001b[0;36mBorutaPy._add_shadows_get_imps\u001b[0;34m(self, X, y, dec_reg)\u001b[0m\n\u001b[1;32m    501\u001b[0m x_sha \u001b[38;5;241m=\u001b[39m np\u001b[38;5;241m.\u001b[39mapply_along_axis(\u001b[38;5;28mself\u001b[39m\u001b[38;5;241m.\u001b[39m_get_shuffle, \u001b[38;5;241m0\u001b[39m, x_sha)\n\u001b[1;32m    502\u001b[0m \u001b[38;5;66;03m# get importance of the merged matrix\u001b[39;00m\n\u001b[0;32m--> 503\u001b[0m imp \u001b[38;5;241m=\u001b[39m \u001b[38;5;28mself\u001b[39m\u001b[38;5;241m.\u001b[39m_get_imp(np\u001b[38;5;241m.\u001b[39mhstack((x_cur, x_sha)), y)\n\u001b[1;32m    504\u001b[0m \u001b[38;5;66;03m# separate importances of real and shadow features\u001b[39;00m\n\u001b[1;32m    505\u001b[0m imp_sha \u001b[38;5;241m=\u001b[39m imp[x_cur_w:]\n",
      "File \u001b[0;32m/opt/anaconda3/lib/python3.12/site-packages/boruta/boruta_py.py:475\u001b[0m, in \u001b[0;36mBorutaPy._get_imp\u001b[0;34m(self, X, y)\u001b[0m\n\u001b[1;32m    473\u001b[0m \u001b[38;5;28;01mdef\u001b[39;00m \u001b[38;5;21m_get_imp\u001b[39m(\u001b[38;5;28mself\u001b[39m, X, y):\n\u001b[1;32m    474\u001b[0m     \u001b[38;5;28;01mtry\u001b[39;00m:\n\u001b[0;32m--> 475\u001b[0m         \u001b[38;5;28mself\u001b[39m\u001b[38;5;241m.\u001b[39mestimator\u001b[38;5;241m.\u001b[39mfit(X, y)\n\u001b[1;32m    476\u001b[0m     \u001b[38;5;28;01mexcept\u001b[39;00m \u001b[38;5;167;01mException\u001b[39;00m \u001b[38;5;28;01mas\u001b[39;00m e:\n\u001b[1;32m    477\u001b[0m         \u001b[38;5;28;01mraise\u001b[39;00m \u001b[38;5;167;01mValueError\u001b[39;00m(\u001b[38;5;124m'\u001b[39m\u001b[38;5;124mPlease check your X and y variable. The provided \u001b[39m\u001b[38;5;124m'\u001b[39m\n\u001b[1;32m    478\u001b[0m                          \u001b[38;5;124m'\u001b[39m\u001b[38;5;124mestimator cannot be fitted to your data.\u001b[39m\u001b[38;5;130;01m\\n\u001b[39;00m\u001b[38;5;124m'\u001b[39m \u001b[38;5;241m+\u001b[39m \u001b[38;5;28mstr\u001b[39m(e))\n",
      "File \u001b[0;32m/opt/anaconda3/lib/python3.12/site-packages/sklearn/base.py:1473\u001b[0m, in \u001b[0;36m_fit_context.<locals>.decorator.<locals>.wrapper\u001b[0;34m(estimator, *args, **kwargs)\u001b[0m\n\u001b[1;32m   1466\u001b[0m     estimator\u001b[38;5;241m.\u001b[39m_validate_params()\n\u001b[1;32m   1468\u001b[0m \u001b[38;5;28;01mwith\u001b[39;00m config_context(\n\u001b[1;32m   1469\u001b[0m     skip_parameter_validation\u001b[38;5;241m=\u001b[39m(\n\u001b[1;32m   1470\u001b[0m         prefer_skip_nested_validation \u001b[38;5;129;01mor\u001b[39;00m global_skip_validation\n\u001b[1;32m   1471\u001b[0m     )\n\u001b[1;32m   1472\u001b[0m ):\n\u001b[0;32m-> 1473\u001b[0m     \u001b[38;5;28;01mreturn\u001b[39;00m fit_method(estimator, \u001b[38;5;241m*\u001b[39margs, \u001b[38;5;241m*\u001b[39m\u001b[38;5;241m*\u001b[39mkwargs)\n",
      "File \u001b[0;32m/opt/anaconda3/lib/python3.12/site-packages/sklearn/ensemble/_forest.py:489\u001b[0m, in \u001b[0;36mBaseForest.fit\u001b[0;34m(self, X, y, sample_weight)\u001b[0m\n\u001b[1;32m    478\u001b[0m trees \u001b[38;5;241m=\u001b[39m [\n\u001b[1;32m    479\u001b[0m     \u001b[38;5;28mself\u001b[39m\u001b[38;5;241m.\u001b[39m_make_estimator(append\u001b[38;5;241m=\u001b[39m\u001b[38;5;28;01mFalse\u001b[39;00m, random_state\u001b[38;5;241m=\u001b[39mrandom_state)\n\u001b[1;32m    480\u001b[0m     \u001b[38;5;28;01mfor\u001b[39;00m i \u001b[38;5;129;01min\u001b[39;00m \u001b[38;5;28mrange\u001b[39m(n_more_estimators)\n\u001b[1;32m    481\u001b[0m ]\n\u001b[1;32m    483\u001b[0m \u001b[38;5;66;03m# Parallel loop: we prefer the threading backend as the Cython code\u001b[39;00m\n\u001b[1;32m    484\u001b[0m \u001b[38;5;66;03m# for fitting the trees is internally releasing the Python GIL\u001b[39;00m\n\u001b[1;32m    485\u001b[0m \u001b[38;5;66;03m# making threading more efficient than multiprocessing in\u001b[39;00m\n\u001b[1;32m    486\u001b[0m \u001b[38;5;66;03m# that case. However, for joblib 0.12+ we respect any\u001b[39;00m\n\u001b[1;32m    487\u001b[0m \u001b[38;5;66;03m# parallel_backend contexts set at a higher level,\u001b[39;00m\n\u001b[1;32m    488\u001b[0m \u001b[38;5;66;03m# since correctness does not rely on using threads.\u001b[39;00m\n\u001b[0;32m--> 489\u001b[0m trees \u001b[38;5;241m=\u001b[39m Parallel(\n\u001b[1;32m    490\u001b[0m     n_jobs\u001b[38;5;241m=\u001b[39m\u001b[38;5;28mself\u001b[39m\u001b[38;5;241m.\u001b[39mn_jobs,\n\u001b[1;32m    491\u001b[0m     verbose\u001b[38;5;241m=\u001b[39m\u001b[38;5;28mself\u001b[39m\u001b[38;5;241m.\u001b[39mverbose,\n\u001b[1;32m    492\u001b[0m     prefer\u001b[38;5;241m=\u001b[39m\u001b[38;5;124m\"\u001b[39m\u001b[38;5;124mthreads\u001b[39m\u001b[38;5;124m\"\u001b[39m,\n\u001b[1;32m    493\u001b[0m )(\n\u001b[1;32m    494\u001b[0m     delayed(_parallel_build_trees)(\n\u001b[1;32m    495\u001b[0m         t,\n\u001b[1;32m    496\u001b[0m         \u001b[38;5;28mself\u001b[39m\u001b[38;5;241m.\u001b[39mbootstrap,\n\u001b[1;32m    497\u001b[0m         X,\n\u001b[1;32m    498\u001b[0m         y,\n\u001b[1;32m    499\u001b[0m         sample_weight,\n\u001b[1;32m    500\u001b[0m         i,\n\u001b[1;32m    501\u001b[0m         \u001b[38;5;28mlen\u001b[39m(trees),\n\u001b[1;32m    502\u001b[0m         verbose\u001b[38;5;241m=\u001b[39m\u001b[38;5;28mself\u001b[39m\u001b[38;5;241m.\u001b[39mverbose,\n\u001b[1;32m    503\u001b[0m         class_weight\u001b[38;5;241m=\u001b[39m\u001b[38;5;28mself\u001b[39m\u001b[38;5;241m.\u001b[39mclass_weight,\n\u001b[1;32m    504\u001b[0m         n_samples_bootstrap\u001b[38;5;241m=\u001b[39mn_samples_bootstrap,\n\u001b[1;32m    505\u001b[0m         missing_values_in_feature_mask\u001b[38;5;241m=\u001b[39mmissing_values_in_feature_mask,\n\u001b[1;32m    506\u001b[0m     )\n\u001b[1;32m    507\u001b[0m     \u001b[38;5;28;01mfor\u001b[39;00m i, t \u001b[38;5;129;01min\u001b[39;00m \u001b[38;5;28menumerate\u001b[39m(trees)\n\u001b[1;32m    508\u001b[0m )\n\u001b[1;32m    510\u001b[0m \u001b[38;5;66;03m# Collect newly grown trees\u001b[39;00m\n\u001b[1;32m    511\u001b[0m \u001b[38;5;28mself\u001b[39m\u001b[38;5;241m.\u001b[39mestimators_\u001b[38;5;241m.\u001b[39mextend(trees)\n",
      "File \u001b[0;32m/opt/anaconda3/lib/python3.12/site-packages/sklearn/utils/parallel.py:74\u001b[0m, in \u001b[0;36mParallel.__call__\u001b[0;34m(self, iterable)\u001b[0m\n\u001b[1;32m     69\u001b[0m config \u001b[38;5;241m=\u001b[39m get_config()\n\u001b[1;32m     70\u001b[0m iterable_with_config \u001b[38;5;241m=\u001b[39m (\n\u001b[1;32m     71\u001b[0m     (_with_config(delayed_func, config), args, kwargs)\n\u001b[1;32m     72\u001b[0m     \u001b[38;5;28;01mfor\u001b[39;00m delayed_func, args, kwargs \u001b[38;5;129;01min\u001b[39;00m iterable\n\u001b[1;32m     73\u001b[0m )\n\u001b[0;32m---> 74\u001b[0m \u001b[38;5;28;01mreturn\u001b[39;00m \u001b[38;5;28msuper\u001b[39m()\u001b[38;5;241m.\u001b[39m\u001b[38;5;21m__call__\u001b[39m(iterable_with_config)\n",
      "File \u001b[0;32m/opt/anaconda3/lib/python3.12/site-packages/joblib/parallel.py:2007\u001b[0m, in \u001b[0;36mParallel.__call__\u001b[0;34m(self, iterable)\u001b[0m\n\u001b[1;32m   2001\u001b[0m \u001b[38;5;66;03m# The first item from the output is blank, but it makes the interpreter\u001b[39;00m\n\u001b[1;32m   2002\u001b[0m \u001b[38;5;66;03m# progress until it enters the Try/Except block of the generator and\u001b[39;00m\n\u001b[1;32m   2003\u001b[0m \u001b[38;5;66;03m# reaches the first `yield` statement. This starts the asynchronous\u001b[39;00m\n\u001b[1;32m   2004\u001b[0m \u001b[38;5;66;03m# dispatch of the tasks to the workers.\u001b[39;00m\n\u001b[1;32m   2005\u001b[0m \u001b[38;5;28mnext\u001b[39m(output)\n\u001b[0;32m-> 2007\u001b[0m \u001b[38;5;28;01mreturn\u001b[39;00m output \u001b[38;5;28;01mif\u001b[39;00m \u001b[38;5;28mself\u001b[39m\u001b[38;5;241m.\u001b[39mreturn_generator \u001b[38;5;28;01melse\u001b[39;00m \u001b[38;5;28mlist\u001b[39m(output)\n",
      "File \u001b[0;32m/opt/anaconda3/lib/python3.12/site-packages/joblib/parallel.py:1650\u001b[0m, in \u001b[0;36mParallel._get_outputs\u001b[0;34m(self, iterator, pre_dispatch)\u001b[0m\n\u001b[1;32m   1647\u001b[0m     \u001b[38;5;28;01myield\u001b[39;00m\n\u001b[1;32m   1649\u001b[0m     \u001b[38;5;28;01mwith\u001b[39;00m \u001b[38;5;28mself\u001b[39m\u001b[38;5;241m.\u001b[39m_backend\u001b[38;5;241m.\u001b[39mretrieval_context():\n\u001b[0;32m-> 1650\u001b[0m         \u001b[38;5;28;01myield from\u001b[39;00m \u001b[38;5;28mself\u001b[39m\u001b[38;5;241m.\u001b[39m_retrieve()\n\u001b[1;32m   1652\u001b[0m \u001b[38;5;28;01mexcept\u001b[39;00m \u001b[38;5;167;01mGeneratorExit\u001b[39;00m:\n\u001b[1;32m   1653\u001b[0m     \u001b[38;5;66;03m# The generator has been garbage collected before being fully\u001b[39;00m\n\u001b[1;32m   1654\u001b[0m     \u001b[38;5;66;03m# consumed. This aborts the remaining tasks if possible and warn\u001b[39;00m\n\u001b[1;32m   1655\u001b[0m     \u001b[38;5;66;03m# the user if necessary.\u001b[39;00m\n\u001b[1;32m   1656\u001b[0m     \u001b[38;5;28mself\u001b[39m\u001b[38;5;241m.\u001b[39m_exception \u001b[38;5;241m=\u001b[39m \u001b[38;5;28;01mTrue\u001b[39;00m\n",
      "File \u001b[0;32m/opt/anaconda3/lib/python3.12/site-packages/joblib/parallel.py:1762\u001b[0m, in \u001b[0;36mParallel._retrieve\u001b[0;34m(self)\u001b[0m\n\u001b[1;32m   1757\u001b[0m \u001b[38;5;66;03m# If the next job is not ready for retrieval yet, we just wait for\u001b[39;00m\n\u001b[1;32m   1758\u001b[0m \u001b[38;5;66;03m# async callbacks to progress.\u001b[39;00m\n\u001b[1;32m   1759\u001b[0m \u001b[38;5;28;01mif\u001b[39;00m ((\u001b[38;5;28mlen\u001b[39m(\u001b[38;5;28mself\u001b[39m\u001b[38;5;241m.\u001b[39m_jobs) \u001b[38;5;241m==\u001b[39m \u001b[38;5;241m0\u001b[39m) \u001b[38;5;129;01mor\u001b[39;00m\n\u001b[1;32m   1760\u001b[0m     (\u001b[38;5;28mself\u001b[39m\u001b[38;5;241m.\u001b[39m_jobs[\u001b[38;5;241m0\u001b[39m]\u001b[38;5;241m.\u001b[39mget_status(\n\u001b[1;32m   1761\u001b[0m         timeout\u001b[38;5;241m=\u001b[39m\u001b[38;5;28mself\u001b[39m\u001b[38;5;241m.\u001b[39mtimeout) \u001b[38;5;241m==\u001b[39m TASK_PENDING)):\n\u001b[0;32m-> 1762\u001b[0m     time\u001b[38;5;241m.\u001b[39msleep(\u001b[38;5;241m0.01\u001b[39m)\n\u001b[1;32m   1763\u001b[0m     \u001b[38;5;28;01mcontinue\u001b[39;00m\n\u001b[1;32m   1765\u001b[0m \u001b[38;5;66;03m# We need to be careful: the job list can be filling up as\u001b[39;00m\n\u001b[1;32m   1766\u001b[0m \u001b[38;5;66;03m# we empty it and Python list are not thread-safe by\u001b[39;00m\n\u001b[1;32m   1767\u001b[0m \u001b[38;5;66;03m# default hence the use of the lock\u001b[39;00m\n",
      "\u001b[0;31mKeyboardInterrupt\u001b[0m: "
     ]
    }
   ],
   "source": [
    "# selected_features, rejected_features = base.Boruta_selection(X, y, ff_path=output_folder + f'boruta.png')"
   ]
  },
  {
   "cell_type": "code",
   "execution_count": null,
   "id": "0ac44c2c-ea92-4e55-b47f-09237358f6a7",
   "metadata": {},
   "outputs": [],
   "source": [
    "# rejected_features"
   ]
  },
  {
   "cell_type": "code",
   "execution_count": null,
   "id": "99d88b81-cba3-4336-a8a6-d433027a7ea4",
   "metadata": {},
   "outputs": [],
   "source": [
    "# voting_table = pd.DataFrame(X.columns, columns=['Features'])\n",
    "# voting_table['Boruta'] = voting_table['Features'].isin(selected_features).astype(int)"
   ]
  },
  {
   "cell_type": "code",
   "execution_count": null,
   "id": "f3e8cfb0-3b1f-4162-a55e-6db1371b2f33",
   "metadata": {},
   "outputs": [],
   "source": [
    "# voting_table.Boruta.value_counts()"
   ]
  },
  {
   "cell_type": "code",
   "execution_count": null,
   "id": "e2c9b179-baef-4879-831f-a61c22b3dda4",
   "metadata": {},
   "outputs": [],
   "source": [
    "# from sklearn.linear_model import Lasso"
   ]
  },
  {
   "cell_type": "code",
   "execution_count": null,
   "id": "992a2233-ad71-48d5-9e44-295948439dd2",
   "metadata": {},
   "outputs": [],
   "source": [
    "# lasso = Lasso(alpha = 0.001)\n",
    "# lasso.fit(X, y)\n",
    "# coefficients = lasso.coef_\n",
    "# print(coefficients)\n",
    "# feature_coefficient = pd.DataFrame({'Feature': X.columns, 'Coefficient': coefficients})\n",
    "# feature_coefficient = feature_coefficient[feature_coefficient['Coefficient'] != 0]\n",
    "# feature_coefficient = feature_coefficient.sort_values(by='Coefficient', ascending=False)\n",
    "# feature_coefficient.shape"
   ]
  },
  {
   "cell_type": "code",
   "execution_count": null,
   "id": "babe389c-9b2a-4149-908a-312ad01bf543",
   "metadata": {},
   "outputs": [],
   "source": [
    "# voting_table['Lasso'] = voting_table['Features'].isin(feature_coefficient.Feature).astype(int)"
   ]
  },
  {
   "cell_type": "code",
   "execution_count": null,
   "id": "e77eacd2-b705-449f-a699-7d7aada9b627",
   "metadata": {},
   "outputs": [],
   "source": [
    "# voting_table.Lasso.value_counts()"
   ]
  },
  {
   "cell_type": "code",
   "execution_count": null,
   "id": "df70536c-84d9-4a0a-a16c-e26afb38c318",
   "metadata": {},
   "outputs": [],
   "source": [
    "# from sklearn.feature_selection import mutual_info_classif"
   ]
  },
  {
   "cell_type": "code",
   "execution_count": null,
   "id": "1b2cacac-b02e-4f51-bccc-cdeb13125eb9",
   "metadata": {},
   "outputs": [],
   "source": [
    "# X_columns = X.columns\n",
    "# mi_features = base.mutual_information_feature_selection(X, y, alpha = 0.001, feature_names = X_columns, ff_path = output_folder+'mi.png')"
   ]
  },
  {
   "cell_type": "code",
   "execution_count": null,
   "id": "1355f4e3-0b34-42b2-82e6-dfe6aa9c4094",
   "metadata": {},
   "outputs": [],
   "source": [
    "# len(mi_features)"
   ]
  },
  {
   "cell_type": "code",
   "execution_count": null,
   "id": "dd72f32c-5f4c-4ae0-a099-7f37146cf784",
   "metadata": {},
   "outputs": [],
   "source": [
    "# voting_table['MI'] = voting_table['Features'].isin(mi_features).astype(int)"
   ]
  },
  {
   "cell_type": "code",
   "execution_count": null,
   "id": "85c0d1cd-5506-4531-8a5d-f2a67f23dc56",
   "metadata": {},
   "outputs": [],
   "source": [
    "# voting_table.MI.value_counts()"
   ]
  },
  {
   "cell_type": "code",
   "execution_count": null,
   "id": "9c7461fc-c833-41da-ba9e-02ce67a9bcc8",
   "metadata": {},
   "outputs": [],
   "source": [
    "# from sklearn.decomposition import PCA"
   ]
  },
  {
   "cell_type": "code",
   "execution_count": null,
   "id": "9fdef110-e550-4ada-a0bf-6351356a1dd2",
   "metadata": {},
   "outputs": [],
   "source": [
    "# pca = PCA(n_components=2)\n",
    "# pca.fit(X)\n",
    "\n",
    "# explained_variance = pca.explained_variance_ratio_\n",
    "# print(\"Explained variance ratio for each component:\", explained_variance)\n",
    "\n",
    "# components = pca.components_\n",
    "\n",
    "# pca_df = pd.DataFrame(components, columns=X.columns)\n",
    "# print(\"PCA components (loadings):\")\n",
    "# print(pca_df)\n",
    "\n",
    "# top_features = pca_df.iloc[0].abs().sort_values(ascending=False).head(15)\n",
    "# print(\"Top 5 features for the first principal component:\", top_features)"
   ]
  },
  {
   "cell_type": "code",
   "execution_count": null,
   "id": "da2a8ade-c72f-4884-8e90-3f52cd05a92c",
   "metadata": {},
   "outputs": [],
   "source": [
    "# voting_table.fillna(0)\n",
    "# voting_table['total_selected'] = voting_table.Boruta + voting_table.Lasso + voting_table.MI"
   ]
  },
  {
   "cell_type": "code",
   "execution_count": null,
   "id": "810042b9-2d25-49f6-aa53-3a67bc24eaa6",
   "metadata": {},
   "outputs": [],
   "source": [
    "# voting_table.total_selected.value_counts()"
   ]
  },
  {
   "cell_type": "code",
   "execution_count": null,
   "id": "604c0f7c-fc28-4c7c-8a1f-f7ceda8571f3",
   "metadata": {},
   "outputs": [],
   "source": [
    "# selected = list(voting_table[voting_table.total_selected >=2].Features)"
   ]
  },
  {
   "cell_type": "code",
   "execution_count": null,
   "id": "00d7e95c-48bd-4b57-bc2d-6a7f3843d9cf",
   "metadata": {},
   "outputs": [],
   "source": [
    "# X = X[selected]"
   ]
  },
  {
   "cell_type": "code",
   "execution_count": 14,
   "id": "60ee2126-b6b8-416f-9f68-088243d2e871",
   "metadata": {},
   "outputs": [],
   "source": [
    "#split data\n",
    "from sklearn.model_selection import train_test_split\n",
    "X_train, X_test, y_train, y_test = train_test_split(X, y, test_size=0.2, random_state = 20250322)"
   ]
  },
  {
   "cell_type": "code",
   "execution_count": 15,
   "id": "19d65da8-ad51-40e5-a8cf-769d0853581a",
   "metadata": {},
   "outputs": [
    {
     "name": "stdout",
     "output_type": "stream",
     "text": [
      "----- Creating models --------\n",
      "**** Logistic Regression ****\n",
      "**** K-Nearest Neighbors (KNN) ****\n",
      "**** Decision Trees ****\n",
      "**** Random Forest ****\n",
      "**** LightGBM ****\n",
      "**** XGBoost ****\n",
      "------------------------------------\n",
      "----- Creating models --------\n",
      "**** Logistic Regression ****\n",
      "**** K-Nearest Neighbors (KNN) ****\n",
      "**** Decision Trees ****\n",
      "**** Random Forest ****\n",
      "**** LightGBM ****\n",
      "**** XGBoost ****\n",
      "------------------------------------\n",
      "----- Performing Logistic Regression --------\n"
     ]
    },
    {
     "name": "stderr",
     "output_type": "stream",
     "text": [
      "/opt/anaconda3/lib/python3.12/site-packages/sklearn/linear_model/_logistic.py:1237: FutureWarning: 'multi_class' was deprecated in version 1.5 and will be removed in 1.7. From then on, binary problems will be fit as proper binary  logistic regression models (as if multi_class='ovr' were set). Leave it to its default value to avoid this warning.\n",
      "  warnings.warn(\n"
     ]
    },
    {
     "name": "stdout",
     "output_type": "stream",
     "text": [
      "Elapsed time: 4.79 seconds\n",
      "----- Performing KNN --------\n",
      "Elapsed time: 1.54 seconds\n",
      "----- Performing Decision Trees --------\n",
      "Elapsed time: 1.38 seconds\n",
      "----- Performing Random Forest --------\n",
      "Elapsed time: 1.23 seconds\n",
      "----- Performing LightGBM --------\n",
      "Elapsed time: 1.44 seconds\n",
      "----- Performing XGBoost --------\n",
      "Elapsed time: 2.37 seconds\n",
      "Models:  ['Logistic Regression', 'KNN', 'Decision Trees', 'Random Forest', 'LightGBM', 'XGBoost']\n",
      "Models:  ['Logistic Regression', 'KNN', 'Decision Trees', 'Random Forest', 'LightGBM', 'XGBoost']\n",
      "Models:  ['Logistic Regression', 'KNN', 'Decision Trees', 'Random Forest', 'LightGBM', 'XGBoost']\n",
      "Models:  ['Logistic Regression', 'KNN', 'Decision Trees', 'Random Forest', 'LightGBM', 'XGBoost']\n"
     ]
    }
   ],
   "source": [
    "models = base.create_models()\n",
    "base.training_models(X_train, X_test, y_train, y_test, 'num', './chart/')"
   ]
  },
  {
   "cell_type": "code",
   "execution_count": 16,
   "id": "7c7abaf5-8a0e-4d14-a7cc-0cf91b8df952",
   "metadata": {},
   "outputs": [
    {
     "name": "stdout",
     "output_type": "stream",
     "text": [
      "                     Accuracy  Precision    Recall  F1 Score\n",
      "Logistic Regression  0.820404   0.523547  0.948501  0.674686\n",
      "KNN                  0.870359   0.695922  0.603382  0.646357\n",
      "Decision Tree        0.867039   0.689873  0.586472  0.633984\n",
      "Random Forest        0.871114   0.693172  0.616449  0.652563\n",
      "LightGBM             0.904316   0.855165  0.617218  0.716964\n",
      "XGBoost              0.882584   0.733691  0.631053  0.678512\n"
     ]
    }
   ],
   "source": [
    "from sklearn.linear_model import LogisticRegression\n",
    "from sklearn.neighbors import KNeighborsClassifier\n",
    "from sklearn.tree import DecisionTreeClassifier\n",
    "from sklearn.ensemble import RandomForestClassifier\n",
    "from sklearn.metrics import accuracy_score, precision_score, recall_score, f1_score\n",
    "import lightgbm as lgb\n",
    "import xgboost as xgb\n",
    "\n",
    "\n",
    "models = {\n",
    "    \"Logistic Regression\": LogisticRegression(class_weight='balanced', max_iter=1000),\n",
    "    \"KNN\": KNeighborsClassifier(),\n",
    "    \"Decision Tree\": DecisionTreeClassifier(),\n",
    "    \"Random Forest\": RandomForestClassifier(),\n",
    "    \"LightGBM\": lgb.LGBMClassifier(),\n",
    "    \"XGBoost\": xgb.XGBClassifier()}\n",
    "\n",
    "results = {}\n",
    "\n",
    "for model_name, model in models.items():\n",
    "    model.fit(X_train, y_train)\n",
    "    y_pred = model.predict(X_test)\n",
    "    \n",
    "    accuracy = accuracy_score(y_test, y_pred)\n",
    "    precision = precision_score(y_test, y_pred)\n",
    "    recall = recall_score(y_test, y_pred)\n",
    "    f1 = f1_score(y_test, y_pred)\n",
    "    \n",
    "    results[model_name] = {\n",
    "        \"Accuracy\": accuracy,\n",
    "        \"Precision\": precision,\n",
    "        \"Recall\": recall,\n",
    "        \"F1 Score\": f1}\n",
    "\n",
    "import pandas as pd\n",
    "results_df = pd.DataFrame(results).T\n",
    "\n",
    "print(results_df)"
   ]
  },
  {
   "cell_type": "code",
   "execution_count": null,
   "id": "3feb9232-f497-4333-9bb5-c1b3adc3e884",
   "metadata": {},
   "outputs": [],
   "source": []
  }
 ],
 "metadata": {
  "kernelspec": {
   "display_name": "Python 3 (ipykernel)",
   "language": "python",
   "name": "python3"
  },
  "language_info": {
   "codemirror_mode": {
    "name": "ipython",
    "version": 3
   },
   "file_extension": ".py",
   "mimetype": "text/x-python",
   "name": "python",
   "nbconvert_exporter": "python",
   "pygments_lexer": "ipython3",
   "version": "3.12.7"
  }
 },
 "nbformat": 4,
 "nbformat_minor": 5
}
