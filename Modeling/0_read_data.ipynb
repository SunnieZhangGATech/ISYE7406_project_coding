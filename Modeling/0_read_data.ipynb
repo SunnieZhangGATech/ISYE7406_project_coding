{
 "cells": [
  {
   "cell_type": "markdown",
   "id": "5e12d92f-8ba7-4b69-af2b-d441ef2efb10",
   "metadata": {},
   "source": [
    "# read data"
   ]
  },
  {
   "cell_type": "code",
   "execution_count": 1,
   "id": "b9a90965-c422-43aa-93e4-52169b6a9ca8",
   "metadata": {},
   "outputs": [],
   "source": [
    "import pandas as pd\n",
    "import numpy as np"
   ]
  },
  {
   "cell_type": "code",
   "execution_count": 2,
   "id": "132a0040-0622-4055-8081-b59c7117b257",
   "metadata": {},
   "outputs": [],
   "source": [
    "data = pd.read_csv('./US_Accidents_March23.csv')"
   ]
  },
  {
   "cell_type": "code",
   "execution_count": 3,
   "id": "8ea061fd-6bcb-4809-9d82-5716ac46def2",
   "metadata": {},
   "outputs": [],
   "source": [
    "import sys\n",
    "sys.path.append('./Code_V2/')\n",
    "import public_func as base"
   ]
  },
  {
   "cell_type": "code",
   "execution_count": 4,
   "id": "78f72afe-47ca-4cce-b567-cdd79872e3b9",
   "metadata": {},
   "outputs": [],
   "source": [
    "base.subset_year(data, 2022, './data_2022.csv')"
   ]
  },
  {
   "cell_type": "code",
   "execution_count": 5,
   "id": "1cd0fa3f-70ac-414b-8b3b-d8baf50b12b4",
   "metadata": {},
   "outputs": [],
   "source": [
    "data2022 = pd.read_csv('./data_2022.csv')"
   ]
  },
  {
   "cell_type": "code",
   "execution_count": 6,
   "id": "089fc880-e925-466b-bd40-c4c50c141fc0",
   "metadata": {},
   "outputs": [
    {
     "data": {
      "text/plain": [
       "(1762452, 46)"
      ]
     },
     "execution_count": 6,
     "metadata": {},
     "output_type": "execute_result"
    }
   ],
   "source": [
    "data2022.shape"
   ]
  },
  {
   "cell_type": "code",
   "execution_count": 8,
   "id": "7693d915-7d9d-4f7a-8a71-cfd2c75245ec",
   "metadata": {},
   "outputs": [
    {
     "data": {
      "text/plain": [
       "Severity\n",
       "2    0.909725\n",
       "3    0.044232\n",
       "4    0.024553\n",
       "1    0.021490\n",
       "Name: proportion, dtype: float64"
      ]
     },
     "execution_count": 8,
     "metadata": {},
     "output_type": "execute_result"
    }
   ],
   "source": [
    "data2022.Severity.value_counts(normalize = True)"
   ]
  },
  {
   "cell_type": "code",
   "execution_count": 9,
   "id": "459de435-01bc-487f-a0fa-f0e07dc62fff",
   "metadata": {},
   "outputs": [
    {
     "data": {
      "text/plain": [
       "ID                            0\n",
       "Source                        0\n",
       "Severity                      0\n",
       "Start_Time                    0\n",
       "End_Time                      0\n",
       "Start_Lat                     0\n",
       "Start_Lng                     0\n",
       "End_Lat                  236182\n",
       "End_Lng                  236182\n",
       "Distance(mi)                  0\n",
       "Description                   0\n",
       "Street                     7236\n",
       "City                         65\n",
       "County                        0\n",
       "State                         0\n",
       "Zipcode                     307\n",
       "Country                       0\n",
       "Timezone                   1713\n",
       "Airport_Code               7199\n",
       "Weather_Timestamp         29595\n",
       "Temperature(F)            38718\n",
       "Wind_Chill(F)             54508\n",
       "Humidity(%)               41107\n",
       "Pressure(in)              33134\n",
       "Visibility(mi)            41953\n",
       "Wind_Direction            48385\n",
       "Wind_Speed(mph)           48377\n",
       "Precipitation(in)         64475\n",
       "Weather_Condition         38688\n",
       "Amenity                       0\n",
       "Bump                          0\n",
       "Crossing                      0\n",
       "Give_Way                      0\n",
       "Junction                      0\n",
       "No_Exit                       0\n",
       "Railway                       0\n",
       "Roundabout                    0\n",
       "Station                       0\n",
       "Stop                          0\n",
       "Traffic_Calming               0\n",
       "Traffic_Signal                0\n",
       "Turning_Loop                  0\n",
       "Sunrise_Sunset            14896\n",
       "Civil_Twilight            14896\n",
       "Nautical_Twilight         14896\n",
       "Astronomical_Twilight     14896\n",
       "dtype: int64"
      ]
     },
     "execution_count": 9,
     "metadata": {},
     "output_type": "execute_result"
    }
   ],
   "source": [
    "data2022.isna().sum()"
   ]
  },
  {
   "cell_type": "code",
   "execution_count": 10,
   "id": "bd3c0e1b-49b9-4886-b711-8b280f66d52c",
   "metadata": {},
   "outputs": [
    {
     "data": {
      "text/plain": [
       "(1421077, 46)"
      ]
     },
     "execution_count": 10,
     "metadata": {},
     "output_type": "execute_result"
    }
   ],
   "source": [
    "test = data2022.dropna()\n",
    "test.shape"
   ]
  },
  {
   "cell_type": "code",
   "execution_count": 12,
   "id": "76ae0cf1-e181-4493-80e4-71c0f808896a",
   "metadata": {},
   "outputs": [
    {
     "data": {
      "text/plain": [
       "Severity\n",
       "2    0.974142\n",
       "4    0.025858\n",
       "Name: proportion, dtype: float64"
      ]
     },
     "execution_count": 12,
     "metadata": {},
     "output_type": "execute_result"
    }
   ],
   "source": [
    "test.Severity.value_counts(normalize = True)"
   ]
  },
  {
   "cell_type": "code",
   "execution_count": 14,
   "id": "bc1ade60-b7b4-4b7f-994b-2bb0be86d803",
   "metadata": {},
   "outputs": [
    {
     "data": {
      "text/plain": [
       "State\n",
       "CA    375913\n",
       "FL    263119\n",
       "VA     99311\n",
       "TX     95509\n",
       "NY     94765\n",
       "SC     84880\n",
       "PA     80839\n",
       "NC     72167\n",
       "NJ     42244\n",
       "AZ     39423\n",
       "TN     38910\n",
       "MN     38354\n",
       "MD     37379\n",
       "LA     33770\n",
       "GA     33129\n",
       "OR     30127\n",
       "MI     28975\n",
       "OH     25746\n",
       "IL     24610\n",
       "CO     20930\n",
       "CT     20171\n",
       "AL     20054\n",
       "MO     19841\n",
       "UT     17439\n",
       "WA     15416\n",
       "IN     14499\n",
       "MT     14072\n",
       "AR      9432\n",
       "OK      8969\n",
       "WI      8078\n",
       "DC      6959\n",
       "KS      6525\n",
       "MA      6281\n",
       "WV      5344\n",
       "IA      4891\n",
       "NV      4286\n",
       "MS      3483\n",
       "DE      3088\n",
       "KY      2713\n",
       "ID      2264\n",
       "WY      2075\n",
       "RI      1601\n",
       "NE      1478\n",
       "NM      1413\n",
       "ND      1288\n",
       "NH       508\n",
       "ME       109\n",
       "VT        38\n",
       "SD        37\n",
       "Name: count, dtype: int64"
      ]
     },
     "execution_count": 14,
     "metadata": {},
     "output_type": "execute_result"
    }
   ],
   "source": [
    "data2022.State.value_counts()"
   ]
  },
  {
   "cell_type": "code",
   "execution_count": 15,
   "id": "db6500e6-82b3-49a2-ae2e-57efe80c1d3d",
   "metadata": {},
   "outputs": [
    {
     "data": {
      "text/plain": [
       "(33129, 46)"
      ]
     },
     "execution_count": 15,
     "metadata": {},
     "output_type": "execute_result"
    }
   ],
   "source": [
    "GA = data2022[data2022.State == 'GA']\n",
    "GA.shape"
   ]
  },
  {
   "cell_type": "code",
   "execution_count": 16,
   "id": "b3722ea6-51b2-4a7e-b2c3-665adcecdb75",
   "metadata": {},
   "outputs": [],
   "source": [
    "severity_dfs = {f\"df_severity_{level}\": data2022[data2022['Severity'] == level] for level in data2022['Severity'].unique()}\n",
    "\n",
    "df_severity_1 = severity_dfs['df_severity_1']\n",
    "df_severity_2 = severity_dfs['df_severity_2']\n",
    "df_severity_3 = severity_dfs['df_severity_3']\n",
    "df_severity_4 = severity_dfs['df_severity_4']"
   ]
  },
  {
   "cell_type": "code",
   "execution_count": 17,
   "id": "483f7ef9-8bf9-44cd-8098-9db289365ac9",
   "metadata": {},
   "outputs": [
    {
     "data": {
      "text/plain": [
       "Severity\n",
       "2    9097.246336\n",
       "3     442.321266\n",
       "4     245.532928\n",
       "1     214.899470\n",
       "Name: proportion, dtype: float64"
      ]
     },
     "execution_count": 17,
     "metadata": {},
     "output_type": "execute_result"
    }
   ],
   "source": [
    "data2022.Severity.value_counts(normalize = True)*10000"
   ]
  },
  {
   "cell_type": "code",
   "execution_count": 19,
   "id": "70da1b9b-5be5-4c10-ae0d-ee9c0c9bba40",
   "metadata": {},
   "outputs": [
    {
     "data": {
      "text/plain": [
       "(10000, 46)"
      ]
     },
     "execution_count": 19,
     "metadata": {},
     "output_type": "execute_result"
    }
   ],
   "source": [
    "#random sample same percentage from each severity, in total we have 10K records\n",
    "\n",
    "# Severity\n",
    "# 2    9097.246336\n",
    "# 3     442.321266\n",
    "# 4     245.532928\n",
    "# 1     214.899470\n",
    "\n",
    "\n",
    "df1 = df_severity_1.sample(n = 215, random_state=20250316)\n",
    "df2 = df_severity_2.sample(n = 9097, random_state=20250316)\n",
    "df3 = df_severity_3.sample(n = 442, random_state=20250316)\n",
    "df4 = df_severity_4.sample(n = 246, random_state=20250316)\n",
    "\n",
    "df_list = [df1, df2, df3, df4]\n",
    "df = pd.concat(df_list)\n",
    "\n",
    "df.shape"
   ]
  },
  {
   "cell_type": "code",
   "execution_count": 24,
   "id": "1b7de0ac-3ec6-4ab8-bc8e-3cccda35bdda",
   "metadata": {},
   "outputs": [
    {
     "data": {
      "text/html": [
       "<div>\n",
       "<style scoped>\n",
       "    .dataframe tbody tr th:only-of-type {\n",
       "        vertical-align: middle;\n",
       "    }\n",
       "\n",
       "    .dataframe tbody tr th {\n",
       "        vertical-align: top;\n",
       "    }\n",
       "\n",
       "    .dataframe thead th {\n",
       "        text-align: right;\n",
       "    }\n",
       "</style>\n",
       "<table border=\"1\" class=\"dataframe\">\n",
       "  <thead>\n",
       "    <tr style=\"text-align: right;\">\n",
       "      <th></th>\n",
       "      <th>ID</th>\n",
       "      <th>Source</th>\n",
       "      <th>Severity</th>\n",
       "      <th>Start_Time</th>\n",
       "      <th>End_Time</th>\n",
       "      <th>Start_Lat</th>\n",
       "      <th>Start_Lng</th>\n",
       "      <th>End_Lat</th>\n",
       "      <th>End_Lng</th>\n",
       "      <th>Distance(mi)</th>\n",
       "      <th>...</th>\n",
       "      <th>Station</th>\n",
       "      <th>Stop</th>\n",
       "      <th>Traffic_Calming</th>\n",
       "      <th>Traffic_Signal</th>\n",
       "      <th>Turning_Loop</th>\n",
       "      <th>Sunrise_Sunset</th>\n",
       "      <th>Civil_Twilight</th>\n",
       "      <th>Nautical_Twilight</th>\n",
       "      <th>Astronomical_Twilight</th>\n",
       "      <th>severity_binary</th>\n",
       "    </tr>\n",
       "  </thead>\n",
       "  <tbody>\n",
       "    <tr>\n",
       "      <th>74560</th>\n",
       "      <td>A-592585</td>\n",
       "      <td>Source2</td>\n",
       "      <td>1</td>\n",
       "      <td>2022-06-15 17:51:55</td>\n",
       "      <td>2022-06-15 18:21:33</td>\n",
       "      <td>39.795151</td>\n",
       "      <td>-84.191772</td>\n",
       "      <td>NaN</td>\n",
       "      <td>NaN</td>\n",
       "      <td>0.0</td>\n",
       "      <td>...</td>\n",
       "      <td>False</td>\n",
       "      <td>False</td>\n",
       "      <td>False</td>\n",
       "      <td>False</td>\n",
       "      <td>False</td>\n",
       "      <td>Day</td>\n",
       "      <td>Day</td>\n",
       "      <td>Day</td>\n",
       "      <td>Day</td>\n",
       "      <td>0</td>\n",
       "    </tr>\n",
       "    <tr>\n",
       "      <th>45356</th>\n",
       "      <td>A-561008</td>\n",
       "      <td>Source2</td>\n",
       "      <td>1</td>\n",
       "      <td>2022-07-20 08:02:22</td>\n",
       "      <td>2022-07-20 08:32:07</td>\n",
       "      <td>29.401381</td>\n",
       "      <td>-98.524460</td>\n",
       "      <td>NaN</td>\n",
       "      <td>NaN</td>\n",
       "      <td>0.0</td>\n",
       "      <td>...</td>\n",
       "      <td>False</td>\n",
       "      <td>True</td>\n",
       "      <td>False</td>\n",
       "      <td>False</td>\n",
       "      <td>False</td>\n",
       "      <td>Day</td>\n",
       "      <td>Day</td>\n",
       "      <td>Day</td>\n",
       "      <td>Day</td>\n",
       "      <td>0</td>\n",
       "    </tr>\n",
       "    <tr>\n",
       "      <th>58603</th>\n",
       "      <td>A-575239</td>\n",
       "      <td>Source3</td>\n",
       "      <td>1</td>\n",
       "      <td>2022-07-05 08:10:46</td>\n",
       "      <td>2022-07-05 09:10:24</td>\n",
       "      <td>32.790741</td>\n",
       "      <td>-96.803574</td>\n",
       "      <td>NaN</td>\n",
       "      <td>NaN</td>\n",
       "      <td>0.0</td>\n",
       "      <td>...</td>\n",
       "      <td>True</td>\n",
       "      <td>False</td>\n",
       "      <td>False</td>\n",
       "      <td>True</td>\n",
       "      <td>False</td>\n",
       "      <td>Day</td>\n",
       "      <td>Day</td>\n",
       "      <td>Day</td>\n",
       "      <td>Day</td>\n",
       "      <td>0</td>\n",
       "    </tr>\n",
       "    <tr>\n",
       "      <th>104230</th>\n",
       "      <td>A-624971</td>\n",
       "      <td>Source2</td>\n",
       "      <td>1</td>\n",
       "      <td>2022-05-12 04:15:06</td>\n",
       "      <td>2022-05-12 04:44:40</td>\n",
       "      <td>43.219830</td>\n",
       "      <td>-85.571182</td>\n",
       "      <td>NaN</td>\n",
       "      <td>NaN</td>\n",
       "      <td>0.0</td>\n",
       "      <td>...</td>\n",
       "      <td>False</td>\n",
       "      <td>False</td>\n",
       "      <td>False</td>\n",
       "      <td>True</td>\n",
       "      <td>False</td>\n",
       "      <td>Night</td>\n",
       "      <td>Night</td>\n",
       "      <td>Night</td>\n",
       "      <td>Night</td>\n",
       "      <td>0</td>\n",
       "    </tr>\n",
       "    <tr>\n",
       "      <th>28724</th>\n",
       "      <td>A-543438</td>\n",
       "      <td>Source2</td>\n",
       "      <td>1</td>\n",
       "      <td>2022-08-08 08:54:01</td>\n",
       "      <td>2022-08-08 09:23:49</td>\n",
       "      <td>34.881779</td>\n",
       "      <td>-82.263802</td>\n",
       "      <td>NaN</td>\n",
       "      <td>NaN</td>\n",
       "      <td>0.0</td>\n",
       "      <td>...</td>\n",
       "      <td>False</td>\n",
       "      <td>False</td>\n",
       "      <td>False</td>\n",
       "      <td>False</td>\n",
       "      <td>False</td>\n",
       "      <td>Day</td>\n",
       "      <td>Day</td>\n",
       "      <td>Day</td>\n",
       "      <td>Day</td>\n",
       "      <td>0</td>\n",
       "    </tr>\n",
       "  </tbody>\n",
       "</table>\n",
       "<p>5 rows × 47 columns</p>\n",
       "</div>"
      ],
      "text/plain": [
       "              ID   Source  Severity           Start_Time             End_Time  \\\n",
       "74560   A-592585  Source2         1  2022-06-15 17:51:55  2022-06-15 18:21:33   \n",
       "45356   A-561008  Source2         1  2022-07-20 08:02:22  2022-07-20 08:32:07   \n",
       "58603   A-575239  Source3         1  2022-07-05 08:10:46  2022-07-05 09:10:24   \n",
       "104230  A-624971  Source2         1  2022-05-12 04:15:06  2022-05-12 04:44:40   \n",
       "28724   A-543438  Source2         1  2022-08-08 08:54:01  2022-08-08 09:23:49   \n",
       "\n",
       "        Start_Lat  Start_Lng  End_Lat  End_Lng  Distance(mi)  ... Station  \\\n",
       "74560   39.795151 -84.191772      NaN      NaN           0.0  ...   False   \n",
       "45356   29.401381 -98.524460      NaN      NaN           0.0  ...   False   \n",
       "58603   32.790741 -96.803574      NaN      NaN           0.0  ...    True   \n",
       "104230  43.219830 -85.571182      NaN      NaN           0.0  ...   False   \n",
       "28724   34.881779 -82.263802      NaN      NaN           0.0  ...   False   \n",
       "\n",
       "         Stop Traffic_Calming Traffic_Signal Turning_Loop Sunrise_Sunset  \\\n",
       "74560   False           False          False        False            Day   \n",
       "45356    True           False          False        False            Day   \n",
       "58603   False           False           True        False            Day   \n",
       "104230  False           False           True        False          Night   \n",
       "28724   False           False          False        False            Day   \n",
       "\n",
       "       Civil_Twilight Nautical_Twilight Astronomical_Twilight severity_binary  \n",
       "74560             Day               Day                   Day               0  \n",
       "45356             Day               Day                   Day               0  \n",
       "58603             Day               Day                   Day               0  \n",
       "104230          Night             Night                 Night               0  \n",
       "28724             Day               Day                   Day               0  \n",
       "\n",
       "[5 rows x 47 columns]"
      ]
     },
     "execution_count": 24,
     "metadata": {},
     "output_type": "execute_result"
    }
   ],
   "source": [
    "df.head(5)"
   ]
  },
  {
   "cell_type": "code",
   "execution_count": 23,
   "id": "3e8167e9-78a2-4a49-92cb-ea4c62fff94e",
   "metadata": {},
   "outputs": [
    {
     "name": "stderr",
     "output_type": "stream",
     "text": [
      "/var/folders/6w/55ktrcq55w369hjz_yf_vz880000gn/T/ipykernel_42489/827479680.py:2: SettingWithCopyWarning: \n",
      "A value is trying to be set on a copy of a slice from a DataFrame.\n",
      "Try using .loc[row_indexer,col_indexer] = value instead\n",
      "\n",
      "See the caveats in the documentation: https://pandas.pydata.org/pandas-docs/stable/user_guide/indexing.html#returning-a-view-versus-a-copy\n",
      "  GA['severity_binary'] = np.where(GA['Severity'].isin([1, 2]), 0, 1)\n"
     ]
    }
   ],
   "source": [
    "df['severity_binary'] = np.where(df['Severity'].isin([1, 2]), 0, 1)\n",
    "GA['severity_binary'] = np.where(GA['Severity'].isin([1, 2]), 0, 1)"
   ]
  },
  {
   "cell_type": "code",
   "execution_count": 25,
   "id": "f0f37902-3628-4bd5-9104-fcdef032bb08",
   "metadata": {},
   "outputs": [],
   "source": [
    "df.to_csv('./data10K.csv', index = False)"
   ]
  },
  {
   "cell_type": "code",
   "execution_count": 26,
   "id": "a08bb8cb-9598-4d60-b153-8a735078ffb9",
   "metadata": {},
   "outputs": [],
   "source": [
    "GA.to_csv('./dataGA.csv', index = False)"
   ]
  },
  {
   "cell_type": "code",
   "execution_count": null,
   "id": "fec2ac7f-60aa-4459-bc27-cc96f30c373e",
   "metadata": {},
   "outputs": [],
   "source": []
  }
 ],
 "metadata": {
  "kernelspec": {
   "display_name": "Python 3 (ipykernel)",
   "language": "python",
   "name": "python3"
  },
  "language_info": {
   "codemirror_mode": {
    "name": "ipython",
    "version": 3
   },
   "file_extension": ".py",
   "mimetype": "text/x-python",
   "name": "python",
   "nbconvert_exporter": "python",
   "pygments_lexer": "ipython3",
   "version": "3.12.7"
  }
 },
 "nbformat": 4,
 "nbformat_minor": 5
}
